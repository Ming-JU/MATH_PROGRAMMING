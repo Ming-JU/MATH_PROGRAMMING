{
 "cells": [
  {
   "cell_type": "code",
   "execution_count": null,
   "metadata": {},
   "outputs": [],
   "source": [
    "#1\n",
    "def right_justify(s):\n",
    "    a = 70\n",
    "    b = a-len(s)\n",
    "    print(' '*b+s)\n",
    "right_justify('monty')"
   ]
  },
  {
   "cell_type": "code",
   "execution_count": null,
   "metadata": {},
   "outputs": [],
   "source": [
    "#2\n",
    "import turtle\n",
    "import math\n",
    "bob = turtle.Turtle()\n",
    "\n",
    "def triangle(t, r, angle): #삼각형 만들기\n",
    "    y = r * math.sin(angle * math.pi / 180) # 각을 호도법으로 표현 180*각도 = PI*각도\n",
    "                                            #직각 삼각형을 만들어 두개를 합쳐 이등변 삼각형을 만듦 y는 밑변의 값\n",
    "    t.rt(angle) #입력한 값만큼 회전\n",
    "    t.fd(r) #입력한 값만큼 이동 \n",
    "    t.lt(90+angle) #삼각형을 만들기 위해 90 + 값만큼  회전\n",
    "    t.fd(y*2) #삼각형 두개를 이어 붙임 \n",
    "    t.lt(90+angle)\n",
    "    t.fd(r)\n",
    "    t.lt(180-angle)# 원상태로의 화살표로 만듬\n",
    "\n",
    "\n",
    "def move(t,length): # 자리 이동\n",
    "    t.penup()\n",
    "    t.fd(length)\n",
    "    t.pendown()\n",
    "\n",
    "def turtle_pie(t, n, r): #삼각형을 출력\n",
    "    angle = 360 / n # n을 삼각형의 갯수로 만들어 중심각(360도)에서 n개의 각을 만들어 준다.\n",
    "    for i in range(n):\n",
    "        triangle(t, r, angle/2) #삼각형 사이의 공간을 메꾸기 위해서 2로 나눈다.\n",
    "        t.lt(angle)\n",
    "        \n",
    "move(bob,150)\n",
    "turtle_pie(bob,7,50)"
   ]
  },
  {
   "cell_type": "code",
   "execution_count": null,
   "metadata": {},
   "outputs": [],
   "source": [
    "#3 과제\n",
    "h=6\n",
    "m=52\n",
    "ep=8*60+15\n",
    "tempo=7*60+12\n",
    "\n",
    "time=h*60*60+m*60+2*ep+3*tempo\n",
    "bf_hour=int(time/3600)\n",
    "bf_minute=int((time%3600)/60)\n",
    "bf_sec=time%60\n",
    "print(bf_hour, bf_minute, bf_sec)\n",
    "print(time//3600)\n",
    "\n"
   ]
  },
  {
   "cell_type": "code",
   "execution_count": null,
   "metadata": {},
   "outputs": [],
   "source": [
    "h=6\n",
    "m=52\n",
    "ep=8*60+15\n",
    "tempo=7*60+12\n",
    "\n",
    "time=h*60*60+m*60+2*ep+3*tempo\n",
    "bf_hour=int(time/3600)\n",
    "bf_minute=int((time%3600)/60)\n",
    "bf_sec=time%60\n",
    "print(bf_hour, bf_minute,bf_sec)"
   ]
  },
  {
   "cell_type": "code",
   "execution_count": null,
   "metadata": {},
   "outputs": [],
   "source": [
    "h=7\n",
    "m=25\n",
    "ep=8*60+20\n",
    "tempo=7*60+14\n",
    "\n",
    "time=h*60*60+m*60+1.6*ep+4*tempo+2.5*ep\n",
    "bf_hour=int(time/3600)\n",
    "bf_minute=int((time%3600)/60)\n",
    "bf_sec=int(time%60)\n",
    "print(bf_hour, bf_minute, bf_sec)\n"
   ]
  },
  {
   "cell_type": "code",
   "execution_count": null,
   "metadata": {},
   "outputs": [],
   "source": [
    "#4 이상이상\n",
    "def is_power"
   ]
  },
  {
   "cell_type": "code",
   "execution_count": null,
   "metadata": {},
   "outputs": [],
   "source": [
    "#5 최대공약수\n",
    "def printGCD(a,b):\n",
    "    r = a % b\n",
    "    if r == 0 :\n",
    "        print(b)\n",
    "    else:\n",
    "        printGCD(b,r)\n",
    "printGCD(64,72)\n",
    "\n",
    "\n",
    "def printGCD(a,b):\n",
    "    r = a % b\n",
    "    if r == 0 :\n",
    "        print(b)\n",
    "    else:\n",
    "        printGCD(b,r)\n",
    "printGCD(24,6)"
   ]
  },
  {
   "cell_type": "code",
   "execution_count": null,
   "metadata": {},
   "outputs": [],
   "source": [
    "#6-1\n",
    "###(1)\n",
    "def is_triangle(x, y, z):\n",
    "    if z >= (x+y) or y >=(x+z) or x >= (y+z):\n",
    "        print('No')\n",
    "    else:\n",
    "        print('Yes')\n",
    "\n",
    "is_triangle(1, 2, 3) # it's possible to arrange a triangle\n",
    "is_triangle(1, 2, 9) # it's not possible to arrange a triangle\n",
    "print()\n",
    "\n",
    "\n",
    "is_triangle(7,6,9)\n",
    "\n",
    "\n"
   ]
  },
  {
   "cell_type": "code",
   "execution_count": null,
   "metadata": {},
   "outputs": [],
   "source": [
    "def is_triangle(x,y,z):\n",
    "    if x >=(y+z) or y>=(x+z) or z>=(x+y):\n",
    "        print('NO')\n",
    "    else:\n",
    "        print('yes')\n",
    "is_triangle(3,4,5)"
   ]
  },
  {
   "cell_type": "code",
   "execution_count": null,
   "metadata": {},
   "outputs": [],
   "source": [
    "#6-2\n",
    "###(2)\n",
    "def triangle():\n",
    "    x = int(input('Please enter the length of the 1st stick:\\n'))\n",
    "    y = int(input('Please enter the length of the 2nd stick:\\n'))\n",
    "    z = int(input('Please enter the length of the 3rd stick:\\n'))\n",
    "    is_triangle(x, y, z)\n",
    "    \n",
    "triangle()"
   ]
  },
  {
   "cell_type": "code",
   "execution_count": null,
   "metadata": {},
   "outputs": [],
   "source": [
    "#7 소수판별하고 1000에 가장 가까운 소수구하기\n",
    "\n",
    "def isprime(n): #함수정의\n",
    "    if n<=1: #n<=1일떄\n",
    "        return False\n",
    "    for i in range (2,n): #n이 3이상일떄 n보다 작거나 같은수로 나눈나머지가 0이면 소수아님 \n",
    "        if n%i == 0:\n",
    "            return False\n",
    "    else:\n",
    "        return True\n",
    "    \n",
    "isprime(6)"
   ]
  },
  {
   "cell_type": "code",
   "execution_count": null,
   "metadata": {},
   "outputs": [],
   "source": [
    "def isprime(n):\n",
    "    if n<=1:\n",
    "        return False\n",
    "    for i in range (2,n):\n",
    "        if n%i == 0:\n",
    "            return False\n",
    "    else:\n",
    "        return True\n",
    "isprime(100)\n",
    "    "
   ]
  },
  {
   "cell_type": "code",
   "execution_count": null,
   "metadata": {},
   "outputs": [],
   "source": [
    "for i in range (2, 5):\n",
    "    print(i)"
   ]
  },
  {
   "cell_type": "code",
   "execution_count": null,
   "metadata": {},
   "outputs": [],
   "source": [
    "for k in range(950,1100):\n",
    "    if isprime(k) == True:\n",
    "        print(k)\n"
   ]
  },
  {
   "cell_type": "code",
   "execution_count": null,
   "metadata": {},
   "outputs": [],
   "source": [
    "#8 소인수분해\n",
    "\n",
    "def print_factor(n):\n",
    "    if n<=1 :\n",
    "        print(n)\n",
    "        return\n",
    "    \n",
    "    for i in range(2,n):  \n",
    "        if n%i==0 :  \n",
    "            print(i,'*',end='',sep='')\n",
    "            print_factor(n//i)\n",
    "            return\n",
    "    print(n)\n",
    "    \n",
    "print_factor(154)\n",
    "\n"
   ]
  },
  {
   "cell_type": "code",
   "execution_count": null,
   "metadata": {},
   "outputs": [],
   "source": [
    "#플러스알파\n",
    "def print_rep(n) :\n",
    "    last = n%10 \n",
    "    if n>=10 :\n",
    "        print_rep(n//10) \n",
    "    print(str(last)*last,end='')\n",
    "    return\n",
    "\n",
    "\n",
    "print_rep(789)"
   ]
  },
  {
   "cell_type": "markdown",
   "metadata": {},
   "source": [
    "수프밍 시험 연습"
   ]
  },
  {
   "cell_type": "code",
   "execution_count": null,
   "metadata": {},
   "outputs": [],
   "source": [
    "#1\n",
    "def right_justify(s):\n",
    "    a=70\n",
    "    b=70-len(s)\n",
    "    print(' '*b+s)\n",
    "right_justify('monty')"
   ]
  },
  {
   "cell_type": "code",
   "execution_count": null,
   "metadata": {},
   "outputs": [],
   "source": [
    "#2\n",
    "h=7\n",
    "m=25\n",
    "ep=8*60+20\n",
    "tempo=7*60+14\n",
    "\n",
    "time=h*60*60+m*60+1.6*ep+4*tempo+2.5*ep\n",
    "bf_hour=int(time/3600)\n",
    "bf_minute=int((time%3600)/60)\n",
    "bf_sec=int(time%60)\n",
    "print(bf_hour, bf_minute, bf_sec)"
   ]
  },
  {
   "cell_type": "code",
   "execution_count": null,
   "metadata": {},
   "outputs": [],
   "source": [
    "#3\n",
    "hour = 7\n",
    "minute = 25\n",
    "easy_pace=8*60+20\n",
    "tempo= 7*60+14\n",
    "\n",
    "time=h*60*60+m*60+1.6*easy_pace+4*tempo+2.5*easy_pace\n",
    "bf_hour = int(time/3600)\n",
    "bf_min =  int(time%3600/60)\n",
    "bf_sec = int(time%60)\n",
    "print(bf_hour, bf_min , bf_sec)"
   ]
  },
  {
   "cell_type": "code",
   "execution_count": null,
   "metadata": {},
   "outputs": [],
   "source": [
    "#5\n",
    "def printGCD(a,b):\n",
    "    r = a%b\n",
    "    if r == 0:\n",
    "        print(b)\n",
    "    else:\n",
    "        printGCD(b,r)\n",
    "printGCD(8,16)"
   ]
  },
  {
   "cell_type": "code",
   "execution_count": null,
   "metadata": {},
   "outputs": [],
   "source": [
    "#6 \n",
    "def is_triangle(x,y,z):\n",
    "    if x>=(y+z) or y>=(x+z) or z>=(x+y):\n",
    "        print('no')\n",
    "    else:\n",
    "        print('yes')\n",
    "is_triangle(1,2,3)\n",
    "is_triangle(3,4,5)"
   ]
  },
  {
   "cell_type": "code",
   "execution_count": null,
   "metadata": {},
   "outputs": [],
   "source": [
    "def triangle():\n",
    "    x=int(input('변1'))\n",
    "    y=int(input('second'))\n",
    "    z=int(input('third'))\n",
    "    is_triangle(x,y,z)\n",
    "triangle()"
   ]
  },
  {
   "cell_type": "code",
   "execution_count": null,
   "metadata": {},
   "outputs": [],
   "source": [
    "#7\n",
    "def isprime(n):\n",
    "    if n<=1:\n",
    "        return False\n",
    "    for i in range (2,n):\n",
    "        if n%i == 0:\n",
    "            return False\n",
    "    else:\n",
    "        return True\n",
    "isprime(41)"
   ]
  },
  {
   "cell_type": "code",
   "execution_count": null,
   "metadata": {},
   "outputs": [],
   "source": [
    "#8\n",
    "def print_factor(n):\n",
    "    if n <= 1:\n",
    "        print(n)\n",
    "        return\n",
    "    for i in range (2,n):\n",
    "        if n%i == 0 :\n",
    "            print(i,'*',end='',sep='')\n",
    "            print_factor(n//i)\n",
    "            return\n",
    "        print(n)\n",
    "print_factor(12)\n",
    "    "
   ]
  },
  {
   "cell_type": "code",
   "execution_count": null,
   "metadata": {},
   "outputs": [],
   "source": [
    "#8\n",
    "def print_factor(n):\n",
    "    if n<=1:\n",
    "        print(n)\n",
    "        return\n",
    "    for i in range (2,n):\n",
    "        if n%i == 0:\n",
    "            print(i,'*',end='',sep='')\n",
    "            print_factor(n//i)\n",
    "            return\n",
    "        print(n)\n",
    "print_factor(12)"
   ]
  },
  {
   "cell_type": "code",
   "execution_count": null,
   "metadata": {},
   "outputs": [],
   "source": [
    "\n",
    "#플러스알파\n",
    "def print_rep(n) :\n",
    "    last = n%10 \n",
    "    if n>=10 :\n",
    "        print_rep(n//10) \n",
    "    print(str(last)*last,end='')\n",
    "    return\n",
    "\n",
    "\n",
    "print_rep(789)"
   ]
  },
  {
   "cell_type": "code",
   "execution_count": null,
   "metadata": {},
   "outputs": [],
   "source": [
    "def print_rep(n):\n",
    "    last = n%10\n",
    "    if n>=10:\n",
    "        print_rep(n//10)\n",
    "    print(str(last)*last,end='')\n",
    "    return\n",
    "\n",
    "print_rep(345)"
   ]
  },
  {
   "cell_type": "code",
   "execution_count": null,
   "metadata": {},
   "outputs": [],
   "source": [
    "def is_power(a, b):\n",
    "    if a<0 and b>0:\n",
    "        return False\n",
    "    if a < b: # 3 is never a power of 10, right?\n",
    "        return False # prevent recursion\n",
    "    if a == b:  # a is always a**1, right?\n",
    "        return True  # prevent recursion\n",
    "    else:\n",
    "        return is_power(a / b, b) # recursion!\n",
    "\n",
    "is_power(1,3)"
   ]
  },
  {
   "cell_type": "code",
   "execution_count": null,
   "metadata": {},
   "outputs": [],
   "source": [
    "#1\n",
    "def right_justify(s):\n",
    "    a=70\n",
    "    b=a-len(s)\n",
    "    print(' '*b+s)\n",
    "right_justify('monty')"
   ]
  },
  {
   "cell_type": "code",
   "execution_count": null,
   "metadata": {},
   "outputs": [],
   "source": [
    "#2"
   ]
  },
  {
   "cell_type": "code",
   "execution_count": null,
   "metadata": {},
   "outputs": [],
   "source": [
    "#3\n",
    "h=7\n",
    "min=25\n",
    "ep=8*60+20\n",
    "tempo=7*60+14\n",
    "time=h*60*60+25*60+ep*1.6+tempo*4+ep*2.5\n",
    "\n",
    "bf_hour=int(time/3600)\n",
    "bf_min=int(time%3600/60)\n",
    "bf_sec=int(time%60)\n",
    "\n",
    "print(bf_hour,bf_min,bf_sec)\n"
   ]
  },
  {
   "cell_type": "code",
   "execution_count": null,
   "metadata": {},
   "outputs": [],
   "source": [
    "#4"
   ]
  },
  {
   "cell_type": "code",
   "execution_count": null,
   "metadata": {},
   "outputs": [],
   "source": [
    "#5\n",
    "def printGCD(a,b):\n",
    "    r=a%b\n",
    "    if r == 0:\n",
    "        print(b)\n",
    "    else:\n",
    "        printGCD(b,r)\n",
    "printGCD(72,64)"
   ]
  },
  {
   "cell_type": "code",
   "execution_count": null,
   "metadata": {},
   "outputs": [],
   "source": [
    "#6\n",
    "def is_triangle(x,y,z):\n",
    "    if x>=(y+z) or y>=(x+z) or z>=(x+y):\n",
    "        print('no')\n",
    "    else:\n",
    "        print('yes')\n",
    "is_triangle(1,2,3)\n",
    "is_triangle(3,4,5)"
   ]
  },
  {
   "cell_type": "code",
   "execution_count": null,
   "metadata": {},
   "outputs": [],
   "source": [
    "#6-2\n",
    "\n",
    "x= int(input('first'))\n",
    "y= int(input('second'))\n",
    "z= int(input('third'))\n",
    "\n",
    "is_triangle(x,y,z)"
   ]
  },
  {
   "cell_type": "code",
   "execution_count": null,
   "metadata": {},
   "outputs": [],
   "source": [
    "#7\n",
    "def isprime(n):\n",
    "    if n<=1:\n",
    "        return False\n",
    "    for i in range (2,n):\n",
    "        if n%i == 0:\n",
    "            return False\n",
    "    else:\n",
    "        return True\n",
    "isprime(42)"
   ]
  },
  {
   "cell_type": "code",
   "execution_count": null,
   "metadata": {},
   "outputs": [],
   "source": [
    "for k in range(950,1100):\n",
    "    if isprime(k) == True:\n",
    "        print(k)\n",
    "            "
   ]
  },
  {
   "cell_type": "code",
   "execution_count": null,
   "metadata": {},
   "outputs": [],
   "source": [
    "#8\n",
    "def print_factor(n):\n",
    "    if n<=1:\n",
    "        print(n)\n",
    "        return\n",
    "    for i in range (2,n):\n",
    "        if n%i == 0:\n",
    "            print(i,'*',end='',sep='')\n",
    "            print_factor(n//i)\n",
    "            return\n",
    "    print(n)\n",
    "print_factor(20)"
   ]
  },
  {
   "cell_type": "code",
   "execution_count": null,
   "metadata": {},
   "outputs": [],
   "source": [
    "def print_factor(n):\n",
    "    if n<=1:\n",
    "        print(n)\n",
    "        return\n",
    "    for i in range(2,n):\n",
    "        if n%i == 0:\n",
    "            print(i,'*',end='',sep='')\n",
    "            print_factor(n//i)\n",
    "            return\n",
    "    print(n)\n",
    "        \n",
    "print_factor(10)\n",
    "    "
   ]
  },
  {
   "cell_type": "code",
   "execution_count": null,
   "metadata": {},
   "outputs": [],
   "source": [
    "def print_rep(n):\n",
    "    last = n%10\n",
    "    if n>=10:\n",
    "        print_rep(n//10)\n",
    "    print(str(last)*last,end='')\n",
    "    return\n",
    "print_rep(314)\n",
    "        "
   ]
  },
  {
   "cell_type": "code",
   "execution_count": null,
   "metadata": {},
   "outputs": [],
   "source": [
    "def print_rep(n):\n",
    "    last = n%10\n",
    "    if n>=10:\n",
    "        print_rep(n//10)\n",
    "    print(str(last)*last,end='')\n",
    "    return\n",
    "\n",
    "print_rep(345)"
   ]
  },
  {
   "cell_type": "code",
   "execution_count": null,
   "metadata": {},
   "outputs": [],
   "source": [
    "def print_rep(n):\n",
    "    last=n%10\n",
    "    if n>=10:\n",
    "        print_rep(n//10)\n",
    "    print(str(last)*last,end='')\n",
    "    return\n",
    "\n",
    "print_rep(123)"
   ]
  },
  {
   "cell_type": "code",
   "execution_count": null,
   "metadata": {},
   "outputs": [],
   "source": [
    "def print_rep(n):\n",
    "    last = n%10\n",
    "    if n>=10:\n",
    "        print_rep(n//10)\n",
    "    print(str(last)*last,end='')\n",
    "    return\n",
    "print_rep(567)"
   ]
  },
  {
   "cell_type": "code",
   "execution_count": null,
   "metadata": {},
   "outputs": [],
   "source": [
    "def leap_year(n):\n",
    "    if n%4 == 0 and (n%100 != 0 or n%400 == 0):\n",
    "        print('윤년')\n",
    "    else:\n",
    "        print('아니얌')\n",
    "leap_year(352)"
   ]
  },
  {
   "cell_type": "code",
   "execution_count": null,
   "metadata": {},
   "outputs": [],
   "source": [
    "def print_n(s,n):\n",
    "    if n<=0:\n",
    "        return\n",
    "    print(s)\n",
    "    print_n(s,n-1)\n",
    "    \n",
    "print_n('Hello',3)"
   ]
  },
  {
   "cell_type": "code",
   "execution_count": null,
   "metadata": {},
   "outputs": [],
   "source": [
    "def recursive_prod(n,s):\n",
    "    if n<=0 :\n",
    "        print(s)\n",
    "    else :\n",
    "        recursive_prod(n-1,n*s)\n",
    "\n",
    "recursive_prod(5,20)"
   ]
  },
  {
   "cell_type": "code",
   "execution_count": null,
   "metadata": {},
   "outputs": [],
   "source": [
    "def recursive_prod(n,s):\n",
    "    if n<=0:\n",
    "        print(s)\n",
    "    else:\n",
    "        recursive_prod(n-1,n*s)\n",
    "recursive_prod(3,6)"
   ]
  },
  {
   "cell_type": "code",
   "execution_count": null,
   "metadata": {},
   "outputs": [],
   "source": [
    "for k in range(3,5):\n",
    "    print(k)\n",
    "\n",
    " \n",
    "\n",
    " \n",
    "\n",
    "for k in range(100):\n",
    "    print(k+1,end=':')"
   ]
  },
  {
   "cell_type": "code",
   "execution_count": null,
   "metadata": {},
   "outputs": [],
   "source": [
    "import turtle\n",
    "\n",
    "\n",
    "def koch(t, n):\n",
    "\n",
    "    if n < 10:\n",
    "        t.fd(n)\n",
    "        return\n",
    "    m = n/3\n",
    "    koch(t, m)\n",
    "    t.lt(60)\n",
    "    koch(t, m)\n",
    "    t.rt(120)\n",
    "    koch(t, m)\n",
    "    t.lt(60)\n",
    "    koch(t, m)\n",
    "\n",
    "\n",
    "def snowflake(t, n):\n",
    "\n",
    "    for i in range(3):\n",
    "        koch(t, n)\n",
    "        t.rt(120)\n",
    "\n",
    "\n",
    "bob = turtle.Turtle()\n",
    "\n",
    "bob.pu()\n",
    "bob.goto(-150, 90)\n",
    "bob.pd()\n",
    "snowflake(bob, 300)\n",
    "\n",
    "turtle.mainloop()\n"
   ]
  },
  {
   "cell_type": "code",
   "execution_count": null,
   "metadata": {},
   "outputs": [],
   "source": [
    "import turtle\n",
    "import math\n",
    "\n",
    "\n",
    "\n",
    "def arc(t, r, angle):\n",
    "    arc_length = 2 * math.pi * r * angle / 360\n",
    "    n = int(arc_length / 3) + 1\n",
    "    step_length = arc_length / n\n",
    "    step_angle = angle / n\n",
    "    for i in range(n):\n",
    "        t.fd(step_length)\n",
    "        t.lt(step_angle)\n",
    "        \n",
    "bob = turtle.Turtle()\n",
    "arc(bob,10,60)\n",
    "arc(bob,50,180)\n",
    "arc(bob,100,90)\n",
    "arc(bob,50,360)\n",
    "\n",
    "turtle.mainloop()"
   ]
  },
  {
   "cell_type": "code",
   "execution_count": null,
   "metadata": {},
   "outputs": [],
   "source": [
    "import turtle\n",
    "import math        \n",
    "\n",
    "def square(t, length):\n",
    "    for i in range(4):\n",
    "        t.fd(length)\n",
    "        t.lt(90)\n",
    "\n",
    "def polygon(t,length,n):\n",
    "    angle = 360/n\n",
    "    for i in range(n):\n",
    "        t.fd(length)\n",
    "        t.lt(angle)\n",
    "        \n",
    "\n",
    "def circle(t,r):\n",
    "    circumference = 2*math.pi*r\n",
    "    n=50\n",
    "    length = circumference/n\n",
    "    polygon(t,length,n)\n",
    "        \n",
    "bob = turtle.Turtle()\n",
    "circle(bob,100)\n",
    "square(bob,100)\n",
    "\n",
    "\n",
    "alice = turtle.Turtle()\n",
    "square(alice,200)\n",
    "polygon(alice,100,6)\n",
    "\n",
    "\n",
    "turtle.mainloop()\n"
   ]
  },
  {
   "cell_type": "code",
   "execution_count": 1,
   "metadata": {},
   "outputs": [],
   "source": [
    "import turtle\n",
    "import math\n",
    "\n",
    "\n",
    "def polygon(t,length,n):\n",
    "    angle = 360/n\n",
    "    for i in range(n):\n",
    "        t.fd(length)\n",
    "        t.lt(angle)\n",
    "        \n",
    "bob= turtle.Turtle()\n",
    "polygon(bob,100,5)"
   ]
  },
  {
   "cell_type": "code",
   "execution_count": 1,
   "metadata": {},
   "outputs": [],
   "source": [
    "import turtle\n",
    "import math\n",
    "\n",
    "def polygon(t,length,n):\n",
    "    angle=360/n\n",
    "    t.fd(length)\n",
    "    t.lt(angle)\n",
    "    \n",
    "bob=turtle.Turtle()\n",
    "\n",
    "polygon(bob,50,5)"
   ]
  },
  {
   "cell_type": "code",
   "execution_count": 6,
   "metadata": {},
   "outputs": [
    {
     "name": "stdout",
     "output_type": "stream",
     "text": [
      "+ - - - - + - - - - +\n",
      "|         |         I\n",
      "|         |         I\n",
      "|         |         I\n",
      "|         |         I\n",
      "+ - - - - + - - - - +\n",
      "|         |         I\n",
      "|         |         I\n",
      "|         |         I\n",
      "|         |         I\n",
      "+ - - - - + - - - - +\n"
     ]
    }
   ],
   "source": [
    "a=('|'+' '*9)*2+'I\\n'\n",
    "\n",
    "print('+', end=' - - - - ')\n",
    "print('+', end=' - - - - ')\n",
    "print('+')\n",
    "print(a*4,end = '')\n",
    "print('+', end=' - - - - ')\n",
    "print('+', end=' - - - - ')\n",
    "print('+')\n",
    "print(a*4,end = '')\n",
    "print('+', end=' - - - - ')\n",
    "print('+', end=' - - - - ')\n",
    "print('+')\n",
    "\n",
    "\n"
   ]
  },
  {
   "cell_type": "code",
   "execution_count": 7,
   "metadata": {},
   "outputs": [
    {
     "name": "stdout",
     "output_type": "stream",
     "text": [
      "+ - - - - + - - - - + - - - - + - - - - +\n",
      "|         |         |         |         |\n",
      "|         |         |         |         |\n",
      "|         |         |         |         |\n",
      "|         |         |         |         |\n",
      "+ - - - - + - - - - + - - - - + - - - - +\n",
      "|         |         |         |         |\n",
      "|         |         |         |         |\n",
      "|         |         |         |         |\n",
      "|         |         |         |         |\n",
      "+ - - - - + - - - - + - - - - + - - - - +\n",
      "|         |         |         |         |\n",
      "|         |         |         |         |\n",
      "|         |         |         |         |\n",
      "|         |         |         |         |\n",
      "+ - - - - + - - - - + - - - - + - - - - +\n",
      "|         |         |         |         |\n",
      "|         |         |         |         |\n",
      "|         |         |         |         |\n",
      "|         |         |         |         |\n",
      "+ - - - - + - - - - + - - - - + - - - - +\n"
     ]
    }
   ],
   "source": [
    "def row():\n",
    "    print ('+ '+'- ' * 4+'+',end='')\n",
    "    print (' '+'- ' * 4+'+',end='')\n",
    "    print (' '+'- ' * 4+'+',end='')\n",
    "    print (' '+'- ' * 4+'+')\n",
    "  \n",
    "def column():\n",
    "    input1 = ' '*9\n",
    "    col = '|'+input1+'|'+input1+'|'+input1+'|'+input1+'|\\n'\n",
    "    print (col * 4,end='')\n",
    "\n",
    "def input_square():\n",
    "    for i in range(4):\n",
    "        row()\n",
    "        column()\n",
    "    row()\n",
    "   \n",
    "input_square()"
   ]
  },
  {
   "cell_type": "code",
   "execution_count": 2,
   "metadata": {},
   "outputs": [],
   "source": [
    "import math\n",
    "import turtle\n",
    "\n",
    "\n",
    "def polyline(t, n, length, angle): #선분을 그리는 함수\n",
    "\n",
    "    for i in range(n):\n",
    "        t.fd(length)\n",
    "        t.lt(angle)\n",
    "\n",
    "\n",
    "def polygon(t, n, length):\n",
    "    angle = 360.0/n\n",
    "    polyline(t, n, length, angle)\n",
    "\n",
    "\n",
    "def arc(t, r, angle):\n",
    "\n",
    "    arc_length = 2 * math.pi * r * abs(angle) / 360\n",
    "    n = int(arc_length / 4) + 1\n",
    "    step_length = arc_length / n\n",
    "    step_angle = float(angle) / n\n",
    "\n",
    "    # making a slight left turn before starting reduces\n",
    "    # the error caused by the linear approximation of the arc\n",
    "    t.lt(step_angle/2)\n",
    "    polyline(t, n, step_length, step_angle)\n",
    "    t.rt(step_angle/2)\n",
    "\n",
    "\n"
   ]
  },
  {
   "cell_type": "code",
   "execution_count": 3,
   "metadata": {},
   "outputs": [],
   "source": [
    "import turtle\n",
    "import math\n",
    "bob = turtle.Turtle()\n",
    "\n",
    "def triangle(t, r, angle): #삼각형 만들기\n",
    "    y = r * math.sin(angle * math.pi / 180) # 각을 호도법으로 표현 180*각도 = PI*각도\n",
    "                                            #직각 삼각형을 만들어 두개를 합쳐 이등변 삼각형을 만듦 y는 밑변의 값\n",
    "    t.rt(angle) #입력한 값만큼 회전\n",
    "    t.fd(r) #입력한 값만큼 이동 \n",
    "    t.lt(90+angle) #삼각형을 만들기 위해 90 + 값만큼  회전\n",
    "    t.fd(y*2) #삼각형 두개를 이어 붙임 \n",
    "    t.lt(90+angle)\n",
    "    t.fd(r)\n",
    "    t.lt(180-angle)# 원상태로의 화살표로 만듬\n",
    "\n",
    "\n",
    "def move(t,length): # 자리 이동\n",
    "    t.penup()\n",
    "    t.fd(length)\n",
    "    t.pendown()\n",
    "\n",
    "def turtle_pie(t, n, r): #삼각형을 출력\n",
    "    angle = 360 / n # n을 삼각형의 갯수로 만들어 중심각(360도)에서 n개의 각을 만들어 준다.\n",
    "    for i in range(n):\n",
    "        triangle(t, r, angle/2) #삼각형 사이의 공간을 메꾸기 위해서 2로 나눈다.\n",
    "        t.lt(angle)\n",
    "        \n",
    "move(bob,150)\n",
    "turtle_pie(bob,7,50)"
   ]
  },
  {
   "cell_type": "code",
   "execution_count": null,
   "metadata": {},
   "outputs": [],
   "source": []
  }
 ],
 "metadata": {
  "kernelspec": {
   "display_name": "Python 3",
   "language": "python",
   "name": "python3"
  },
  "language_info": {
   "codemirror_mode": {
    "name": "ipython",
    "version": 3
   },
   "file_extension": ".py",
   "mimetype": "text/x-python",
   "name": "python",
   "nbconvert_exporter": "python",
   "pygments_lexer": "ipython3",
   "version": "3.6.5"
  }
 },
 "nbformat": 4,
 "nbformat_minor": 2
}
