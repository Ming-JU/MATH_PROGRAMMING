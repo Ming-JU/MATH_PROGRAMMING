{
 "cells": [
  {
   "cell_type": "code",
   "execution_count": 3,
   "metadata": {},
   "outputs": [
    {
     "name": "stdout",
     "output_type": "stream",
     "text": [
      "                                                                 monty\n"
     ]
    }
   ],
   "source": [
    "##3.1\n",
    "def right_justify(s):\n",
    "    a = 70\n",
    "    b = a-len(s)\n",
    "    print(' '*b+s)   \n",
    "right_justify('monty')"
   ]
  },
  {
   "cell_type": "code",
   "execution_count": 4,
   "metadata": {},
   "outputs": [
    {
     "name": "stdout",
     "output_type": "stream",
     "text": [
      "spam\n",
      "spam\n"
     ]
    }
   ],
   "source": [
    "## 3.2 -1\n",
    "def do_twice(f):\n",
    "    f()\n",
    "    f()\n",
    "def print_spam():\n",
    "    print('spam')\n",
    "\n",
    "do_twice(print_spam)"
   ]
  },
  {
   "cell_type": "code",
   "execution_count": 5,
   "metadata": {},
   "outputs": [],
   "source": [
    "## 3.2-2\n",
    "def do_twice(f, arg):\n",
    "    f(arg)\n",
    "    f(arg)\n"
   ]
  },
  {
   "cell_type": "code",
   "execution_count": 6,
   "metadata": {},
   "outputs": [],
   "source": [
    "## 3.2-3    \n",
    "def print_twice(bruce):   \n",
    "    print(bruce)\n",
    "    print(bruce)"
   ]
  },
  {
   "cell_type": "code",
   "execution_count": 7,
   "metadata": {},
   "outputs": [
    {
     "name": "stdout",
     "output_type": "stream",
     "text": [
      "spam\n",
      "spam\n",
      "spam\n",
      "spam\n",
      "\n",
      "\n"
     ]
    }
   ],
   "source": [
    "## 3.2-4 \n",
    "do_twice(print_twice, 'spam')\n",
    "print('\\n')"
   ]
  },
  {
   "cell_type": "code",
   "execution_count": 8,
   "metadata": {},
   "outputs": [
    {
     "name": "stdout",
     "output_type": "stream",
     "text": [
      "math\n",
      "math\n",
      "math\n",
      "math\n",
      "math\n",
      "math\n",
      "math\n",
      "math\n",
      "\n",
      "\n"
     ]
    }
   ],
   "source": [
    "## 3.2-5\n",
    "def do_four(f, arg):\n",
    "    do_twice(f, arg)\n",
    "    do_twice(f, arg)\n",
    "do_four(print_twice, 'math')\n",
    "print('\\n')"
   ]
  },
  {
   "cell_type": "code",
   "execution_count": 9,
   "metadata": {},
   "outputs": [
    {
     "name": "stdout",
     "output_type": "stream",
     "text": [
      "+ - - - - + - - - - +\n",
      "|         |         |\n",
      "|         |         |\n",
      "|         |         |\n",
      "|         |         |\n",
      "+ - - - - + - - - - +\n",
      "|         |         |\n",
      "|         |         |\n",
      "|         |         |\n",
      "|         |         |\n",
      "+ - - - - + - - - - +\n",
      "\n",
      "\n"
     ]
    }
   ],
   "source": [
    "#3.3-1\n",
    "def do_twice(f):\n",
    "    f()\n",
    "    f()\n",
    "\n",
    "def do_four(f):\n",
    "    do_twice(f)\n",
    "    do_twice(f)\n",
    "\n",
    "def print_r():\n",
    "    print('+ - - - -', end=' ')\n",
    "\n",
    "def print_c():\n",
    "    print('|        ', end=' ')\n",
    "\n",
    "def print_rs():\n",
    "    do_twice(print_r)\n",
    "    print('+')\n",
    "\n",
    "def print_cs():\n",
    "    do_twice(print_c)\n",
    "    print('|')\n",
    "\n",
    "def print_w():\n",
    "    print_rs()\n",
    "    do_four(print_cs)\n",
    "\n",
    "def print_grid():\n",
    "    do_twice(print_w)\n",
    "    print_rs()\n",
    "\n",
    "print_grid()\n",
    "\n",
    "print('\\n')"
   ]
  },
  {
   "cell_type": "code",
   "execution_count": 10,
   "metadata": {},
   "outputs": [
    {
     "name": "stdout",
     "output_type": "stream",
     "text": [
      "+ - - - - + - - - - + - - - - + - - - - +\n",
      "|         |         |         |         |\n",
      "|         |         |         |         |\n",
      "|         |         |         |         |\n",
      "|         |         |         |         |\n",
      "+ - - - - + - - - - + - - - - + - - - - +\n",
      "|         |         |         |         |\n",
      "|         |         |         |         |\n",
      "|         |         |         |         |\n",
      "|         |         |         |         |\n",
      "+ - - - - + - - - - + - - - - + - - - - +\n",
      "|         |         |         |         |\n",
      "|         |         |         |         |\n",
      "|         |         |         |         |\n",
      "|         |         |         |         |\n",
      "+ - - - - + - - - - + - - - - + - - - - +\n",
      "|         |         |         |         |\n",
      "|         |         |         |         |\n",
      "|         |         |         |         |\n",
      "|         |         |         |         |\n",
      "+ - - - - + - - - - + - - - - + - - - - +\n"
     ]
    }
   ],
   "source": [
    "# 3.3-2\n",
    "def do_twice(f):\n",
    "    f()\n",
    "    f()\n",
    "\n",
    "def do_four(f):\n",
    "    do_twice(f)\n",
    "    do_twice(f)\n",
    "\n",
    "def print_row():\n",
    "    print('+ - - - -', end=' ')\n",
    "\n",
    "def print_colum():\n",
    "    print('|        ', end=' ')\n",
    "\n",
    "def print_rows():\n",
    "    do_four(print_row)\n",
    "    print('+')\n",
    "\n",
    "def print_colums():\n",
    "    do_four(print_colum)\n",
    "    print('|')\n",
    "\n",
    "def print_width():\n",
    "    print_rows()\n",
    "    do_four(print_colums)\n",
    "\n",
    "def print_grid2():\n",
    "    do_twice(print_width)\n",
    "\n",
    "do_twice(print_grid2)\n",
    "print_rows()\n"
   ]
  },
  {
   "cell_type": "code",
   "execution_count": null,
   "metadata": {},
   "outputs": [],
   "source": [
    "#4.1-1\n",
    "\n",
    "\n",
    "  \n",
    "    ##polyline(): 선분을 그리는 함수\n",
    "   ## polygon(t,n,length) : 각 변이 length가 되는 n각형을 그리는 함수\n",
    "    ##arc(t,r,angle) : angle까지의 반지름이 r인 원을 그리는 함수\n",
    "    ##circle(t,r) : 반지름의 길이가 r인 원을 그리는 함수\n",
    "    \n",
    "    ##circle(bob,radius)에 값을 할당할 경우, arc함수 의 값에 r이 들어가게되어지고, 각의 크기는 원 전체이므로 360도가 들어가게 된다\n",
    "    ##계산도중 polygon함수를 만나게 되면 b,length값에 적당한 값이 들어가고, 마지막으로 polyline이 작성된다.\n",
    "    ##arc함수의 경우 반지름과 주어진 각의 크기를 이용해 호를 구하고, 주어진 각 까지의 원을 만든다\n",
    "    \n",
    "   \n",
    "    \n",
    "import math\n",
    "import turtle\n",
    "\n",
    "\n",
    "def polyline(t, n, length, angle): #선분을 그리는 함수\n",
    "\n",
    "    for i in range(n):\n",
    "        t.fd(length)\n",
    "        t.lt(angle)\n",
    "\n",
    "\n",
    "def polygon(t, n, length):\n",
    "    angle = 360.0/n\n",
    "    polyline(t, n, length, angle)\n",
    "\n",
    "\n",
    "def arc(t, r, angle):\n",
    "\n",
    "    arc_length = 2 * math.pi * r * abs(angle) / 360\n",
    "    n = int(arc_length / 4) + 1\n",
    "    step_length = arc_length / n\n",
    "    step_angle = float(angle) / n\n",
    "\n",
    "    # making a slight left turn before starting reduces\n",
    "    # the error caused by the linear approximation of the arc\n",
    "    t.lt(step_angle/2)\n",
    "    polyline(t, n, step_length, step_angle)\n",
    "    t.rt(step_angle/2)\n",
    "\n",
    "\n",
    "def circle(t, r):\n",
    "\n",
    "    arc(t, r, 360)\n",
    "\n",
    "\n",
    "# the following condition checks whether we are\n",
    "# running as a script, in which case run the test code,\n",
    "# or being imported, in which case don't.\n",
    "\n",
    "if __name__ == '__main__':\n",
    "    bob = turtle.Turtle()\n",
    "\n",
    "    # draw a circle centered on the origin\n",
    "    radius = 100\n",
    "    bob.pu()\n",
    "    bob.fd(radius)\n",
    "    bob.lt(90)\n",
    "    bob.pd()\n",
    "    circle(bob, radius)\n",
    "\n",
    "    # wait for the user to close the window\n",
    "    turtle.mainloop()\n"
   ]
  },
  {
   "cell_type": "code",
   "execution_count": null,
   "metadata": {},
   "outputs": [],
   "source": [
    "#4.1-2\n",
    "arc함수에서 n의 값을 4픽셀짜리 선분으로 나눔으로써 원을 만들 수 있다.\n",
    "원은 확대하면 결국 4픽셀짜리 선분으로 이루어진 polygon이 나오는데, 픽셀값을 크게 할 수록\n",
    "원이 아닌 다각형의 모습에 근접해간다.\n",
    "\"\"\"\n"
   ]
  },
  {
   "cell_type": "code",
   "execution_count": null,
   "metadata": {},
   "outputs": [],
   "source": [
    "#4.2\n",
    "\n",
    "import turtle\n",
    "import math\n",
    "bob = turtle.Turtle()\n",
    "\n",
    "def arc(t, r, angle): #원을 만드는 함수\n",
    "    arc_length = 2 * math.pi * r * angle / 360 #호의 길이\n",
    "    n = int(arc_length/3) + 1\n",
    "    step_length = arc_length / n \n",
    "    step_angle = angle / n \n",
    "    for i in range(n): \n",
    "        t.fd(step_length) \n",
    "        t.lt(step_angle) \n",
    "        \n",
    "def one(t, r, angle):  #꽃잎 한장을 만드는 함수\n",
    "    for i in range(2):\n",
    "        arc(t, r, angle) # 원하는 길이만큼 출력\n",
    "        t.lt(180-angle) #y=x축 대칭\n",
    "\n",
    "\n",
    "def turtle_flower(t, n, r, angle): #꽃을 만드는 함수\n",
    "    for i in range(n):\n",
    "        one(t, r, angle)\n",
    "        t.lt(360/n) # 중심각을 n으로 나누어 꽃잎의 갯수를 설정한다.\n",
    "        \n",
    "\n",
    "def move(t,length):\n",
    "    t.penup()\n",
    "    t.fd(length)\n",
    "    t.pendown()\n",
    "      \n",
    "move(bob,-150)\n",
    "turtle_flower(bob, 7, 60, 60)\n",
    "move(bob,150)\n",
    "turtle_flower(bob, 10, 40, 90)\n",
    "move(bob,150)\n",
    "turtle_flower(bob, 20, 130, 20)\n",
    "\n",
    "turtle.mainloop()\n",
    "\n"
   ]
  },
  {
   "cell_type": "code",
   "execution_count": null,
   "metadata": {},
   "outputs": [],
   "source": [
    "#4.3\n",
    "\n",
    "import turtle\n",
    "import math\n",
    "bob = turtle.Turtle()\n",
    "\n",
    "def triangle(t, r, angle): #삼각형 만들기\n",
    "    y = r * math.sin(angle * math.pi / 180) # 각을 호도법으로 표현 180*각도 = PI*각도\n",
    "    #직각 삼각형을 만들어 두개를 합쳐 이등변 삼각형을 만듦 y는 밑변의 값\n",
    "    t.rt(angle) #입력한 값만큼 회전\n",
    "    t.fd(r) #입력한 값만큼 이동 \n",
    "    t.lt(90+angle) #삼각형을 만들기 위해 90 + 값만큼  회전\n",
    "    t.fd(y*2) #삼각형 두개를 이어 붙임 \n",
    "    t.lt(90+angle)\n",
    "    t.fd(r)\n",
    "    t.lt(180-angle)# 원상태로의 화살표로 만듬\n",
    "\n",
    "\n",
    "def move(t,length): # 자리 이동\n",
    "    t.penup()\n",
    "    t.fd(length)\n",
    "    t.pendown()\n",
    "\n",
    "def turtle_pie(t, n, r): #삼각형을 출력\n",
    "    angle = 360 / n # n을 삼각형의 갯수로 만들어 중심각(360도)에서 n개의 각을 만들어 준다.\n",
    "    for i in range(n):\n",
    "        triangle(t, r, angle/2) #삼각형 사이의 공간을 메꾸기 위해서 2로 나눈다.\n",
    "        t.lt(angle)\n",
    "\n",
    "move(bob,-150)\n",
    "turtle_pie(bob,5,50)\n",
    "move(bob,150)\n",
    "turtle_pie(bob,6,50)\n",
    "move(bob,150)\n",
    "turtle_pie(bob,7,50)\n",
    "\n",
    "turtle.mainloop()\n"
   ]
  },
  {
   "cell_type": "code",
   "execution_count": 2,
   "metadata": {},
   "outputs": [],
   "source": [
    "#4.4\n",
    "import turtle\n",
    "import math\n",
    "def square(t, length):\n",
    "\n",
    "    for i in range(4):\n",
    "        t.fd(length)\n",
    "        t.lt(90)\n",
    "\n",
    "\n",
    "def polyline(t, n, length, angle):\n",
    "\n",
    "    for i in range(n):\n",
    "        t.fd(length)\n",
    "        t.lt(angle)\n",
    "\n",
    "\n",
    "def polygon(t, n, length):\n",
    "\n",
    "    angle = 360.0/n\n",
    "    polyline(t, n, length, angle)\n",
    "\n",
    "\n",
    "def arc(t, r, angle):\n",
    "\n",
    "    arc_length = 2 * math.pi * r * abs(angle) / 360\n",
    "    n = int(arc_length / 4) + 1\n",
    "    step_length = arc_length / n\n",
    "    step_angle = float(angle) / n\n",
    "\n",
    "    t.lt(step_angle/2)\n",
    "    polyline(t, n, step_length, step_angle)\n",
    "    t.rt(step_angle/2)\n",
    "\n",
    "\n",
    "def circle(t, r):\n",
    "    arc(t, r, 360)\n",
    "\n",
    "\n",
    "def fd(t, length):\n",
    "    t.fd(length)\n",
    "\n",
    "def bk(t, length):\n",
    "    t.bk(length)\n",
    "\n",
    "def lt(t, angle=90):\n",
    "    t.lt(angle)\n",
    "\n",
    "def rt(t, angle=90):\n",
    "    t.rt(angle)\n",
    "\n",
    "def pd(t):\n",
    "    t.pd()\n",
    "\n",
    "def pu(t):\n",
    "    t.pu()\n",
    "\n",
    "\n",
    "\n",
    "def fdlt(t, n, angle=90):\n",
    "\n",
    "    fd(t, n)\n",
    "    lt(t, angle)\n",
    "\n",
    "def fdbk(t, n):\n",
    "\n",
    "    fd(t, n)\n",
    "    bk(t, n)\n",
    "\n",
    "def skip(t, n):\n",
    "\n",
    "    pu(t)\n",
    "    fd(t, n)\n",
    "    pd(t)\n",
    "\n",
    "def stump(t, n, angle=90):\n",
    "\n",
    "    lt(t)\n",
    "    fd(t, n)\n",
    "    rt(t, angle)\n",
    "\n",
    "def hollow(t, n):\n",
    "\n",
    "    lt(t)\n",
    "    skip(t, n)\n",
    "    rt(t)\n",
    "\n",
    "\n",
    "\n",
    "def post(t, n):\n",
    "    lt(t)\n",
    "    fdbk(t, n)\n",
    "    rt(t)\n",
    "\n",
    "def beam(t, n, height):\n",
    "    hollow(t, n*height)\n",
    "    fdbk(t, n)\n",
    "    hollow(t, -n*height)\n",
    "\n",
    "def hangman(t, n, height):\n",
    "\n",
    "    stump(t, n * height)\n",
    "    fdbk(t, n)\n",
    "    lt(t)\n",
    "    bk(t, n*height)\n",
    "    rt(t)\n",
    "\n",
    "def diagonal(t, x, y):\n",
    "    from math import atan2, sqrt, pi\n",
    "    angle = atan2(y, x) * 180 / pi\n",
    "    dist = sqrt(x**2 + y**2)\n",
    "    lt(t, angle)\n",
    "    fdbk(t, dist)\n",
    "    rt(t, angle)\n",
    "\n",
    "def vshape(t, n, height):\n",
    "    diagonal(t, -n/2, height*n)\n",
    "    diagonal(t, n/2, height*n)\n",
    "\n",
    "def bump(t, n, height):\n",
    "\n",
    "    stump(t, n*height)\n",
    "    arc(t, n/2.0, 180)\n",
    "    lt(t)\n",
    "    fdlt(t, n*height+n)\n",
    "\n",
    "\n",
    "def draw_a(t, n):\n",
    "    diagonal(t, n/2, 2*n)\n",
    "    beam(t, n, 1)\n",
    "    skip(t, n)\n",
    "    diagonal(t, -n/2, 2*n)\n",
    "\n",
    "def draw_b(t, n):\n",
    "    bump(t, n, 1)\n",
    "    bump(t, n, 0)\n",
    "    skip(t, n/2)\n",
    "\n",
    "def draw_c(t, n):\n",
    "    hangman(t, n, 2)\n",
    "    fd(t, n)\n",
    "\n",
    "def draw_d(t, n):\n",
    "    bump(t, 2*n, 0)\n",
    "    skip(t, n)\n",
    "\n",
    "def draw_ef(t, n):\n",
    "    hangman(t, n, 2)\n",
    "    hangman(t, n, 1)\n",
    "\n",
    "def draw_e(t, n):\n",
    "    draw_ef(t, n)\n",
    "    fd(t, n)\n"
   ]
  },
  {
   "cell_type": "code",
   "execution_count": 11,
   "metadata": {},
   "outputs": [
    {
     "data": {
      "text/plain": [
       "1537269213.9719324"
      ]
     },
     "execution_count": 11,
     "metadata": {},
     "output_type": "execute_result"
    }
   ],
   "source": [
    "#5.1\n",
    "import time\n",
    "time.time()"
   ]
  },
  {
   "cell_type": "code",
   "execution_count": 12,
   "metadata": {},
   "outputs": [],
   "source": [
    "time.time()\n",
    "year = 365*24*60*60\n",
    "day = 24*60*60\n",
    "hour = 60*60\n",
    "minute = 60"
   ]
  },
  {
   "cell_type": "code",
   "execution_count": 13,
   "metadata": {},
   "outputs": [
    {
     "data": {
      "text/plain": [
       "48.0"
      ]
     },
     "execution_count": 13,
     "metadata": {},
     "output_type": "execute_result"
    }
   ],
   "source": [
    "years = time.time()//year\n",
    "years"
   ]
  },
  {
   "cell_type": "code",
   "execution_count": 14,
   "metadata": {},
   "outputs": [
    {
     "data": {
      "text/plain": [
       "272.0"
      ]
     },
     "execution_count": 14,
     "metadata": {},
     "output_type": "execute_result"
    }
   ],
   "source": [
    "days = (time.time()%year)//day\n",
    "days\n"
   ]
  },
  {
   "cell_type": "code",
   "execution_count": 15,
   "metadata": {},
   "outputs": [
    {
     "data": {
      "text/plain": [
       "11.0"
      ]
     },
     "execution_count": 15,
     "metadata": {},
     "output_type": "execute_result"
    }
   ],
   "source": [
    "hours = (time.time()%day)//hour\n",
    "hours"
   ]
  },
  {
   "cell_type": "code",
   "execution_count": 16,
   "metadata": {},
   "outputs": [
    {
     "data": {
      "text/plain": [
       "13.0"
      ]
     },
     "execution_count": 16,
     "metadata": {},
     "output_type": "execute_result"
    }
   ],
   "source": [
    "minutes = (time.time()%hour)//minute\n",
    "minutes"
   ]
  },
  {
   "cell_type": "code",
   "execution_count": 17,
   "metadata": {},
   "outputs": [
    {
     "data": {
      "text/plain": [
       "38.5171537399292"
      ]
     },
     "execution_count": 17,
     "metadata": {},
     "output_type": "execute_result"
    }
   ],
   "source": [
    "seconds = (time.time()%minute)\n",
    "seconds"
   ]
  },
  {
   "cell_type": "code",
   "execution_count": 18,
   "metadata": {},
   "outputs": [
    {
     "data": {
      "text/plain": [
       "39.16961646080017"
      ]
     },
     "execution_count": 18,
     "metadata": {},
     "output_type": "execute_result"
    }
   ],
   "source": [
    "seconds = (time.time()%minute)\n",
    "seconds"
   ]
  },
  {
   "cell_type": "code",
   "execution_count": 19,
   "metadata": {},
   "outputs": [],
   "source": [
    "c_year = 1970 + years\n",
    "c_month = 1 + days//31 \n",
    "c_day = 1+days%31 -6\n",
    "c_hour = hours + 9\n",
    "c_minute = minutes\n",
    "c_second = seconds"
   ]
  },
  {
   "cell_type": "code",
   "execution_count": 20,
   "metadata": {},
   "outputs": [
    {
     "name": "stdout",
     "output_type": "stream",
     "text": [
      "2018 년  9 월  19 일  20 시  13 분  39 초 \n"
     ]
    }
   ],
   "source": [
    "print(int(c_year),'년 ',int(c_month),'월 ',int(c_day),'일 ',int(c_hour),'시 ',int(c_minute),'분 ',int(c_second),'초 ')"
   ]
  },
  {
   "cell_type": "code",
   "execution_count": 21,
   "metadata": {},
   "outputs": [
    {
     "name": "stdout",
     "output_type": "stream",
     "text": [
      "Fermat was right. He is great Mathemathician\n"
     ]
    }
   ],
   "source": [
    "#5.2 - 1\n",
    "def check_Fermat(a,b,c,n):\n",
    "    if(n<=2):\n",
    "        print(\"n is greater than 2\")\n",
    "        return False\n",
    "    elif(a<= 0):\n",
    "        print(\"a should be positive integer\")\n",
    "        return False\n",
    "    elif(b<= 0):\n",
    "        print(\"b should be positive integer\")\n",
    "        return False\n",
    "    elif(c<= 0):\n",
    "        print(\"c should be positive integer\")\n",
    "        return False\n",
    "    else:\n",
    "        an=1\n",
    "        for k in range(n):\n",
    "            an=an*a\n",
    "        bn=1\n",
    "        for k in range(n):\n",
    "            bn=bn*b\n",
    "        cn=1\n",
    "        for k in range(n):\n",
    "            cn=cn*c\n",
    "            \n",
    "        if(an + bn == cn):\n",
    "            print(\"Fermat was wrong\")\n",
    "        else:\n",
    "            print(\"Fermat was right. He is great Mathemathician\")\n",
    "            \n",
    "            \n",
    "check_Fermat(1,2,2,3)"
   ]
  },
  {
   "cell_type": "code",
   "execution_count": 22,
   "metadata": {},
   "outputs": [
    {
     "name": "stdout",
     "output_type": "stream",
     "text": [
      "input positive integer:\n"
     ]
    },
    {
     "ename": "ValueError",
     "evalue": "invalid literal for int() with base 10: ''",
     "output_type": "error",
     "traceback": [
      "\u001b[1;31m---------------------------------------------------------------------------\u001b[0m",
      "\u001b[1;31mValueError\u001b[0m                                Traceback (most recent call last)",
      "\u001b[1;32m<ipython-input-22-8b0d048c741b>\u001b[0m in \u001b[0;36m<module>\u001b[1;34m()\u001b[0m\n\u001b[0;32m      8\u001b[0m     \u001b[0mcheck_Fermat\u001b[0m\u001b[1;33m(\u001b[0m\u001b[0mx\u001b[0m\u001b[1;33m,\u001b[0m\u001b[0my\u001b[0m\u001b[1;33m,\u001b[0m\u001b[0mz\u001b[0m\u001b[1;33m,\u001b[0m\u001b[0mw\u001b[0m\u001b[1;33m)\u001b[0m\u001b[1;33m\u001b[0m\u001b[0m\n\u001b[0;32m      9\u001b[0m \u001b[1;33m\u001b[0m\u001b[0m\n\u001b[1;32m---> 10\u001b[1;33m \u001b[0minput_Fermat\u001b[0m\u001b[1;33m(\u001b[0m\u001b[1;33m)\u001b[0m\u001b[1;33m\u001b[0m\u001b[0m\n\u001b[0m",
      "\u001b[1;32m<ipython-input-22-8b0d048c741b>\u001b[0m in \u001b[0;36minput_Fermat\u001b[1;34m()\u001b[0m\n\u001b[0;32m      1\u001b[0m \u001b[1;31m#5.2 - 2\u001b[0m\u001b[1;33m\u001b[0m\u001b[1;33m\u001b[0m\u001b[0m\n\u001b[0;32m      2\u001b[0m \u001b[1;32mdef\u001b[0m \u001b[0minput_Fermat\u001b[0m\u001b[1;33m(\u001b[0m\u001b[1;33m)\u001b[0m\u001b[1;33m:\u001b[0m\u001b[1;33m\u001b[0m\u001b[0m\n\u001b[1;32m----> 3\u001b[1;33m     \u001b[0mx\u001b[0m \u001b[1;33m=\u001b[0m \u001b[0mint\u001b[0m\u001b[1;33m(\u001b[0m\u001b[0minput\u001b[0m\u001b[1;33m(\u001b[0m\u001b[1;34m'input positive integer:'\u001b[0m\u001b[1;33m)\u001b[0m\u001b[1;33m)\u001b[0m\u001b[1;33m\u001b[0m\u001b[0m\n\u001b[0m\u001b[0;32m      4\u001b[0m     \u001b[0my\u001b[0m \u001b[1;33m=\u001b[0m \u001b[0mint\u001b[0m\u001b[1;33m(\u001b[0m\u001b[0minput\u001b[0m\u001b[1;33m(\u001b[0m\u001b[1;34m'input positive integer:'\u001b[0m\u001b[1;33m)\u001b[0m\u001b[1;33m)\u001b[0m\u001b[1;33m\u001b[0m\u001b[0m\n\u001b[0;32m      5\u001b[0m     \u001b[0mz\u001b[0m \u001b[1;33m=\u001b[0m \u001b[0mint\u001b[0m\u001b[1;33m(\u001b[0m\u001b[0minput\u001b[0m\u001b[1;33m(\u001b[0m\u001b[1;34m'input positive integer:'\u001b[0m\u001b[1;33m)\u001b[0m\u001b[1;33m)\u001b[0m\u001b[1;33m\u001b[0m\u001b[0m\n",
      "\u001b[1;31mValueError\u001b[0m: invalid literal for int() with base 10: ''"
     ]
    }
   ],
   "source": [
    "#5.2 - 2\n",
    "def input_Fermat():\n",
    "    x = int(input('input positive integer:'))\n",
    "    y = int(input('input positive integer:'))\n",
    "    z = int(input('input positive integer:'))\n",
    "    w = int(input('input positive integer greater than 2 :'))\n",
    "\n",
    "    check_Fermat(x,y,z,w)\n",
    "    \n",
    "input_Fermat()"
   ]
  },
  {
   "cell_type": "code",
   "execution_count": 2,
   "metadata": {},
   "outputs": [
    {
     "name": "stdout",
     "output_type": "stream",
     "text": [
      "NO\n"
     ]
    }
   ],
   "source": [
    "#5.3-1\n",
    "def is_triangle(a,b,c):\n",
    "    m = max(a,b,c)\n",
    "    n = (a+b+c)-m\n",
    "    if m>n:\n",
    "        print('NO')\n",
    "    else:\n",
    "        print('YES')\n",
    "\n",
    "is_triangle(4,2,7)"
   ]
  },
  {
   "cell_type": "code",
   "execution_count": null,
   "metadata": {},
   "outputs": [],
   "source": [
    "#5.3-2\n",
    "def check_triangle():\n",
    "    x = int(input('input positive integer:'))\n",
    "    y = int(input('input positive integer:'))\n",
    "    z = int(input('input positive integer:'))\n",
    "    \n",
    "    is_triangle(x,y,z)\n",
    "    \n",
    "check_triangle()"
   ]
  },
  {
   "cell_type": "code",
   "execution_count": null,
   "metadata": {},
   "outputs": [],
   "source": []
  }
 ],
 "metadata": {
  "kernelspec": {
   "display_name": "Python 3",
   "language": "python",
   "name": "python3"
  },
  "language_info": {
   "codemirror_mode": {
    "name": "ipython",
    "version": 3
   },
   "file_extension": ".py",
   "mimetype": "text/x-python",
   "name": "python",
   "nbconvert_exporter": "python",
   "pygments_lexer": "ipython3",
   "version": "3.7.0"
  }
 },
 "nbformat": 4,
 "nbformat_minor": 2
}
