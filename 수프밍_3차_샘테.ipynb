{
 "cells": [
  {
   "cell_type": "markdown",
   "metadata": {},
   "source": [
    "# Question1\n",
    "\n",
    "\n",
    "수행시간을 단축하기 위해 계산 결과를 dictionary를 사용하여 기억하여(memorize)같은 계산을 여러번 하지 않도록 하는 함수 three_n_plus_one_memo를 작성하시오. 1<=n<100000인 n에 대해 두 함수 three_n_plus_one과 three_n_plus_one_memo를 각각 수행한 시간을 측정하고 그 수행시간을 비교하여라"
   ]
  },
  {
   "cell_type": "code",
   "execution_count": 20,
   "metadata": {},
   "outputs": [],
   "source": [
    "def three_n_plus_one(n):\n",
    "    if n == 1:\n",
    "        return 0\n",
    "    else:\n",
    "        count = 1\n",
    "        if n%2==0:\n",
    "            count += three_n_plus_one(n//2)\n",
    "        else:\n",
    "            count += three_n_plus_one(3*n+1)\n",
    "        return count"
   ]
  },
  {
   "cell_type": "code",
   "execution_count": null,
   "metadata": {},
   "outputs": [],
   "source": [
    "def three_n_plus_one(n):\n",
    "    if n == 1 :\n",
    "        return 0\n",
    "    else:\n",
    "        count = 1\n",
    "        if n%2 == 0 :\n",
    "            count += three_n_plus_one(n//2)\n",
    "        else:\n",
    "            count += three_n_plus_one(3*n+1)\n",
    "        return count"
   ]
  },
  {
   "cell_type": "code",
   "execution_count": 21,
   "metadata": {},
   "outputs": [
    {
     "data": {
      "text/plain": [
       "1"
      ]
     },
     "execution_count": 21,
     "metadata": {},
     "output_type": "execute_result"
    }
   ],
   "source": [
    "three_n_plus_one(2)"
   ]
  },
  {
   "cell_type": "code",
   "execution_count": 29,
   "metadata": {},
   "outputs": [],
   "source": [
    "memo = {1:0}\n",
    "\n",
    "def three_n_plus_one_memo(n):\n",
    "    \n",
    "    if n in memo:\n",
    "        return memo[n]\n",
    "    else:\n",
    "        count = 1\n",
    "        if n%2==0:\n",
    "            count += three_n_plus_one(n//2)\n",
    "            memo[n] = count\n",
    "        \n",
    "        else:\n",
    "            count += three_n_plus_one(3*n+1)\n",
    "            memo[n] = count\n",
    "        \n",
    "        return count\n",
    "        \n",
    "    "
   ]
  },
  {
   "cell_type": "code",
   "execution_count": 3,
   "metadata": {},
   "outputs": [],
   "source": [
    "memo = {1:0}\n",
    "\n",
    "def three_n_plus_one_memo(n):\n",
    "    if n in memo:\n",
    "        return memo[n]\n",
    "    else:\n",
    "        count = 1\n",
    "        if n%2==0:\n",
    "            count += three_n_plus_one(n//2)\n",
    "            memo[n] = count\n",
    "        \n",
    "        else:\n",
    "            count += three_n_plus_one(3*n+1)\n",
    "            memo[n] = count\n",
    "        \n",
    "        return count\n",
    "        "
   ]
  },
  {
   "cell_type": "code",
   "execution_count": 4,
   "metadata": {},
   "outputs": [
    {
     "data": {
      "text/plain": [
       "1"
      ]
     },
     "execution_count": 4,
     "metadata": {},
     "output_type": "execute_result"
    }
   ],
   "source": [
    "three_n_plus_one_memo(2)"
   ]
  },
  {
   "cell_type": "code",
   "execution_count": 31,
   "metadata": {},
   "outputs": [
    {
     "data": {
      "text/plain": [
       "{1: 0, 2: 1}"
      ]
     },
     "execution_count": 31,
     "metadata": {},
     "output_type": "execute_result"
    }
   ],
   "source": [
    "memo"
   ]
  },
  {
   "cell_type": "code",
   "execution_count": 6,
   "metadata": {},
   "outputs": [],
   "source": [
    "import time\n",
    "\n",
    "start1 = time.time()\n",
    "for n in range(1,100000):\n",
    "    res1 = three_n_plus_one_memo(n)\n",
    "    end1 = time.time()\n",
    "    elapsed1 = end1 - start1\n",
    "    "
   ]
  },
  {
   "cell_type": "code",
   "execution_count": null,
   "metadata": {},
   "outputs": [],
   "source": [
    "import time\n",
    "for n in range(1,1000):\n",
    "    start1 = time.time()\n",
    "    res1 = three_n_plus_one_memo(n)\n",
    "    end1 = time.time()\n",
    "    elapsed1 = end1 - start1"
   ]
  },
  {
   "cell_type": "code",
   "execution_count": 7,
   "metadata": {},
   "outputs": [
    {
     "name": "stdout",
     "output_type": "stream",
     "text": [
      "res1: 226 elapsed: 0.9777202606201172 seconds\n",
      "res2: 226 elapsed: 0.27422142028808594 seconds\n"
     ]
    }
   ],
   "source": [
    "start2= time.time()\n",
    "for n in range(1,100000):\n",
    "    res2 = three_n_plus_one(n)\n",
    "    end2 = time.time()\n",
    "    elapsed2 = end2 - start2\n",
    "    \n",
    "print('res1:',res1,'elapsed:',elapsed1,'seconds')\n",
    "print('res2:',res2,'elapsed:',elapsed2,'seconds')"
   ]
  },
  {
   "cell_type": "markdown",
   "metadata": {},
   "source": [
    "# Quetion2\n",
    "\n",
    "The following function has_duplicates takes a list and returns True if there is any element that appears more than once. Use a dictionary to write a functionio called has_duplicates_dict which is a faster, simpler version of has_duplicates. It should not modify the original list. Also, write a function called has_duplicates_set which is a faster, simpler version of has_duplicates_dict by using a set"
   ]
  },
  {
   "cell_type": "code",
   "execution_count": 1,
   "metadata": {},
   "outputs": [],
   "source": [
    "def has_duplicates(t):\n",
    "    n = len(t)\n",
    "    for i in range(n):\n",
    "        if t[i] in t[i+1:]:\n",
    "            return True\n",
    "    return False"
   ]
  },
  {
   "cell_type": "code",
   "execution_count": 12,
   "metadata": {},
   "outputs": [],
   "source": [
    "def has_duplicates(t):\n",
    "    n = len(t)\n",
    "    for i in range(n):\n",
    "        if t[i] in t[i+1]:\n",
    "            return True\n",
    "    return False"
   ]
  },
  {
   "cell_type": "code",
   "execution_count": 13,
   "metadata": {},
   "outputs": [
    {
     "data": {
      "text/plain": [
       "True"
      ]
     },
     "execution_count": 13,
     "metadata": {},
     "output_type": "execute_result"
    }
   ],
   "source": [
    "has_duplicates(['c','b','b','a'])"
   ]
  },
  {
   "cell_type": "code",
   "execution_count": 2,
   "metadata": {},
   "outputs": [],
   "source": [
    "def has_duplicates_dict(k):\n",
    "    d = {}\n",
    "    for x in k:\n",
    "        if x in d:\n",
    "            return True\n",
    "        d[x] = True\n",
    "    return False"
   ]
  },
  {
   "cell_type": "code",
   "execution_count": 14,
   "metadata": {},
   "outputs": [],
   "source": [
    "def has_duplicates_dict(k):\n",
    "    d = {}\n",
    "    for x in k:\n",
    "        if x in d:\n",
    "            return True\n",
    "        d[x] = True\n",
    "    return False"
   ]
  },
  {
   "cell_type": "code",
   "execution_count": 15,
   "metadata": {},
   "outputs": [],
   "source": [
    "def has_duplicates_set(k):\n",
    "    return len(set(k)) < len(k)"
   ]
  },
  {
   "cell_type": "code",
   "execution_count": null,
   "metadata": {},
   "outputs": [],
   "source": [
    "def has_duplicates_set(k):\n",
    "    return len(set(k)) < len(k)"
   ]
  },
  {
   "cell_type": "code",
   "execution_count": null,
   "metadata": {},
   "outputs": [],
   "source": [
    "def has_duplicates(t):\n",
    "    n = len(t)\n",
    "    for i in range(n):\n",
    "        if t[i] in t[i+1:]:\n",
    "            return True\n",
    "    return False\n",
    "\n",
    "def has_duplicates_dict(k):\n",
    "    d={}\n",
    "    for x in k:\n",
    "        if x in d:\n",
    "            return True\n",
    "        d[x] =True\n",
    "    return False\n",
    "\n",
    "def has_duplicates_set(k):\n",
    "    return len(set(k)) < len(k)"
   ]
  },
  {
   "cell_type": "code",
   "execution_count": 40,
   "metadata": {},
   "outputs": [
    {
     "name": "stdout",
     "output_type": "stream",
     "text": [
      "has_duplicates_set :  0.08913612365722656 sec\n",
      "has_duplicates_dict :  0.13282060623168945 sec\n",
      "has_duplicates :  0.2322864532470703 sec\n"
     ]
    }
   ],
   "source": [
    "import time\n",
    "\n",
    "test = ['a','b','c','a']\n",
    "\n",
    "start1 = time.time()\n",
    "for n in range(1,100000):\n",
    "    has_duplicates_set(test)\n",
    "    end = time.time()\n",
    "    elapsed1 = end - start1\n",
    "print('has_duplicates_set : ',elapsed1,'sec')\n",
    "\n",
    "start2 = time.time()\n",
    "for n in range(1,100000):\n",
    "    has_duplicates_dict(test)\n",
    "    end2 = time.time()\n",
    "    elapsed2 = end2 - start2\n",
    "print('has_duplicates_dict : ',elapsed2, 'sec')\n",
    "    \n",
    "start3 = time.time()\n",
    "for n in range(1,100000):\n",
    "    has_duplicates(test)\n",
    "    end3 = time.time()\n",
    "    elapsed3 = end3 - start3\n",
    "print('has_duplicates : ',elapsed3, 'sec')"
   ]
  },
  {
   "cell_type": "code",
   "execution_count": null,
   "metadata": {},
   "outputs": [],
   "source": []
  },
  {
   "cell_type": "markdown",
   "metadata": {},
   "source": [
    "#  Question3\n",
    "\n",
    "If there are 23 students in your class, what are the chances that two of you have the same birthday? You can estimate this probability by generating random samples of 23 birthdays and checking for matches. Use randint in the random module to write a function called estimate_birthday_prob that takes the number of students in your class. num and the number of trials, trials and returns the estimated probability that two of students have the same birthday in the class of num students by generating random samples of num birthday trials times. Also, estimate the probability by evaluating estimate_birthday_prob(23,1000000)"
   ]
  },
  {
   "cell_type": "code",
   "execution_count": 5,
   "metadata": {},
   "outputs": [
    {
     "name": "stdout",
     "output_type": "stream",
     "text": [
      "The probability of a shared birthday in a class of 23 is 0.50663\n"
     ]
    }
   ],
   "source": [
    "import random\n",
    "\n",
    "def estimate_birthday_prob(class_size,trials):\n",
    "    count = 0\n",
    "    for t in range(trials):\n",
    "        birthdayList = []\n",
    "        for i in range(class_size):\n",
    "            new_birthday = random.randint(0,365)\n",
    "            birthdayList.append(new_birthday)\n",
    "            \n",
    "        found = False\n",
    "        \n",
    "        for n in birthdayList:\n",
    "            if birthdayList.count(n) > 1:\n",
    "                found = True\n",
    "                \n",
    "        if found == True:\n",
    "            count = count + 1\n",
    "            \n",
    "    prob = count / trials\n",
    "    print('The probability of a shared birthday in a class of',class_size, 'is',prob)\n",
    "    \n",
    "estimate_birthday_prob(23,100000)\n",
    "            "
   ]
  },
  {
   "cell_type": "code",
   "execution_count": null,
   "metadata": {},
   "outputs": [],
   "source": [
    "import random\n",
    "\n",
    "def estimate_birthday_prob(class_size,trials):\n",
    "    count = 0 \n",
    "    for t in range(trials):\n",
    "        birthdayList = []\n",
    "        for i in range(class_size):\n",
    "            new_birthday = random.randint(0,365)\n",
    "            birthdayList.append(new_birthday)\n",
    "        found = False\n",
    "        \n",
    "        for n in birthdayList:\n",
    "            if birthdayList.count(n)>1:\n",
    "                found = True\n",
    "        if found == True:\n",
    "            count = count + 1\n",
    "            \n",
    "    prob = count/trials\n",
    "    pirint('the prob of a shared birthday in a class of',class_size.'is',prob)\n",
    "    \n"
   ]
  },
  {
   "cell_type": "code",
   "execution_count": null,
   "metadata": {
    "collapsed": true
   },
   "outputs": [],
   "source": [
    "import random\n",
    "\n",
    "def estimate_birthday_prob(class_size,trials):\n",
    "    count = 0\n",
    "    for t in range(trials):\n",
    "        birthdayList = []\n",
    "        for i in range(class_size):\n",
    "            newbirthday = random.randint(0,365)\n",
    "            birthdayList.append(newbirthday)\n",
    "        found = False\n",
    "        \n",
    "        for n in birthdayList:\n",
    "            if birthdayhList.count(n)>1:\n",
    "                found = True\n",
    "                \n",
    "        if found == True:\n",
    "            count = count+1\n",
    "    prob = count/trials\n",
    "    \n",
    "    print"
   ]
  },
  {
   "cell_type": "code",
   "execution_count": null,
   "metadata": {},
   "outputs": [],
   "source": [
    "import random\n",
    "\n",
    "def estimate_birthday_prob(class_size,trials):\n",
    "    count = 0\n",
    "    for t in range(trials):\n",
    "        birthdayList = []\n",
    "        for i in range(class_size):\n",
    "            newbirthday = random.randint(0,365)\n",
    "            birthdayList.append(newbirthday)\n",
    "        found = False\n",
    "        \n",
    "        for n in birthdayList:\n",
    "            if birthdayList.count(n)>1:\n",
    "                found = True\n",
    "        if found == True:\n",
    "            count = count + 1\n",
    "            \n",
    "    prob = found/trials\n",
    "    "
   ]
  },
  {
   "cell_type": "markdown",
   "metadata": {},
   "source": [
    "# Question4\n"
   ]
  },
  {
   "cell_type": "code",
   "execution_count": 7,
   "metadata": {},
   "outputs": [],
   "source": [
    "def Abs(n):\n",
    "    if n>0:\n",
    "        return n\n",
    "    else:\n",
    "        return -n\n",
    "\n",
    "def printTerm(n,i):\n",
    "    a=''\n",
    "    if i==0:\n",
    "        return n\n",
    "    elif i==1: \n",
    "        if Abs(n)!=0 and Abs(n)==1:\n",
    "            a = 'x'\n",
    "        elif Abs(n)!=0 and Abs(n)!=1:\n",
    "            a = str(Abs(n))+'*x'\n",
    "    \n",
    "    elif i>1: \n",
    "        if Abs(n)!=0 and Abs(n)==1: \n",
    "            a = 'x^'+str(i)\n",
    "        elif Abs(n)!=0 and Abs(n)!=1:\n",
    "            a = str(Abs(n))+'*x^'+str(i)\n",
    "    return a\n",
    "\n",
    "  \n",
    "\n",
    "def make_poly(lst):\n",
    "    polylist=[]\n",
    "    for i in range(len(lst)):\n",
    "        polylist.append(printTerm(lst[i],i))\n",
    "    return polylist\n",
    "\n",
    "def find_zero(lst):\n",
    "    count=0\n",
    "    for i in range(len(lst)-1):\n",
    "        if lst[i]==0:\n",
    "            count+=1\n",
    "    for i in range(count):\n",
    "        if lst[i]==0:\n",
    "            return None\n",
    "        \n",
    "def print_poly(lst):\n",
    "    pl=make_poly(lst)\n",
    "    if len(lst)==1:\n",
    "        return print(lst[0])\n",
    "    \n",
    "    find_zero(lst)\n",
    "    find_zero(pl)\n",
    "    for i in range(len(lst)):\n",
    "        if i>0:\n",
    "            if lst[i]>0:\n",
    "                print('+'+pl[i],end='')\n",
    "            elif lst[i]<0:\n",
    "                print('-'+pl[i],end='')\n",
    "        else:\n",
    "            print('',end='')"
   ]
  },
  {
   "cell_type": "code",
   "execution_count": 48,
   "metadata": {},
   "outputs": [],
   "source": [
    "def print_poly(lst) :\n",
    "    l = len(lst)\n",
    "    if l == 1 :\n",
    "        print(lst[0])\n",
    "    else :\n",
    "        for i in range(l) :\n",
    "            if i == 0 :\n",
    "                if lst[0] == 0 :\n",
    "                    print('',end='')\n",
    "                else :\n",
    "                    print(lst[i],end ='')\n",
    "            elif i == 1 :\n",
    "                if lst[i] == 0 :\n",
    "                    print('',end='')\n",
    "                elif lst[i] == -1 :\n",
    "                    print('-X',end='')\n",
    "                elif lst[i] == 1 :\n",
    "                    print('+X',end='')\n",
    "                elif lst[i] < -1 :\n",
    "                    print(lst[i],'*X',sep='',end='')\n",
    "                else :\n",
    "                    print('+',lst[i],'*X',sep='',end='')\n",
    "            elif i > 1 :\n",
    "                if lst[i] == 0 :\n",
    "                    print('',end='')\n",
    "                elif lst[i] == -1 :\n",
    "                    print('-X^',i,sep='',end='')\n",
    "                elif lst[i] == 1 :\n",
    "                    print('+X^',i,sep='',end='')\n",
    "                elif lst[i] < -1 :\n",
    "                    print(lst[i],'*X^',i,sep='',end='')\n",
    "                else :\n",
    "                    print('+',lst[i],'*X^',i,sep='',end='')"
   ]
  },
  {
   "cell_type": "code",
   "execution_count": 46,
   "metadata": {},
   "outputs": [],
   "source": [
    "def print_poly(lst):\n",
    "    l = len(lst)\n",
    "    if l == 0:\n",
    "        print(lst[0])\n",
    "    else:\n",
    "        for i in range(l):\n",
    "            if i == 0:\n",
    "                if lst[0] == 0:\n",
    "                    print('',end='')\n",
    "                else:\n",
    "                    print(lst[i],end = '')\n",
    "            if i == 1:\n",
    "                if lst[i] == 0 :\n",
    "                    print('',end='')\n",
    "                if lst[i] == -1:\n",
    "                    print('-x',end='')\n",
    "                if lst[i] == 1:\n",
    "                    print('+x',end='')\n",
    "                if lst[i] < -1:\n",
    "                    print(lst[i],'*x',sep='',end='')\n",
    "                else:\n",
    "                    print('+',lst[i],'*x',sep='',end='')\n",
    "                \n",
    "                \n",
    "                \n",
    "            if i > 0:\n",
    "                if lst[i] == 0 :\n",
    "                    print('',end='')\n",
    "                if lst[i] == -1:\n",
    "                    print(lst[i],'-x^',i,sep='',end='')\n",
    "                if lst[i] == 1:\n",
    "                    print(lst[i],'+x^',i,sep = '',end='')\n",
    "                if lst[i] < -1:\n",
    "                    print(lst[i],'*x^',i,sep='',end='')\n",
    "                else:\n",
    "                    print('+',lst[i],'*x^',sep='',end='')\n",
    "                \n",
    "        "
   ]
  },
  {
   "cell_type": "code",
   "execution_count": 47,
   "metadata": {},
   "outputs": [
    {
     "name": "stdout",
     "output_type": "stream",
     "text": [
      "0\n",
      "1\n",
      "2\n"
     ]
    }
   ],
   "source": [
    "for k in range(len([1,2,3,4])-1) :\n",
    "    print(k)"
   ]
  },
  {
   "cell_type": "code",
   "execution_count": 48,
   "metadata": {},
   "outputs": [
    {
     "name": "stdout",
     "output_type": "stream",
     "text": [
      "1+x+1*x1+x^1+1*x^1+x^2+1*x^"
     ]
    }
   ],
   "source": [
    "print_poly([1,1,1])"
   ]
  },
  {
   "cell_type": "code",
   "execution_count": 615,
   "metadata": {},
   "outputs": [
    {
     "name": "stdout",
     "output_type": "stream",
     "text": [
      "1+2*x^2"
     ]
    }
   ],
   "source": [
    "print_poly([1,0,2])"
   ]
  },
  {
   "cell_type": "code",
   "execution_count": 618,
   "metadata": {},
   "outputs": [
    {
     "name": "stdout",
     "output_type": "stream",
     "text": [
      "+2*x-3*x^2"
     ]
    }
   ],
   "source": [
    "print_poly([0,2,-3])"
   ]
  },
  {
   "cell_type": "code",
   "execution_count": 594,
   "metadata": {},
   "outputs": [
    {
     "name": "stdout",
     "output_type": "stream",
     "text": [
      "2\n"
     ]
    }
   ],
   "source": [
    "print_poly([2])"
   ]
  },
  {
   "cell_type": "code",
   "execution_count": 595,
   "metadata": {},
   "outputs": [
    {
     "name": "stdout",
     "output_type": "stream",
     "text": [
      "0\n"
     ]
    }
   ],
   "source": [
    "print_poly([0])"
   ]
  },
  {
   "cell_type": "markdown",
   "metadata": {},
   "source": [
    "# Question5"
   ]
  },
  {
   "cell_type": "code",
   "execution_count": null,
   "metadata": {},
   "outputs": [],
   "source": []
  },
  {
   "cell_type": "code",
   "execution_count": 16,
   "metadata": {},
   "outputs": [],
   "source": [
    "def multiply_poly(f,g):\n",
    "    prod = [0] * (len(f)+len(g)-1)\n",
    "    \n",
    "    for n in range(len(f)):\n",
    "        for m in range(len(g)):\n",
    "            prod[n+m] += f[m]*g[n]\n",
    "            \n",
    "    return prod"
   ]
  },
  {
   "cell_type": "code",
   "execution_count": 18,
   "metadata": {},
   "outputs": [],
   "source": [
    "def multiply_poly(f,g):\n",
    "    prod = [0]+(len(f)+leng(g)-1)\n",
    "    for n in range (len(f)):\n",
    "        for m in range(lenf(g)):\n",
    "            prod[n+m] += f[m]*g[n]\n",
    "            \n",
    "    return prod"
   ]
  },
  {
   "cell_type": "code",
   "execution_count": null,
   "metadata": {},
   "outputs": [],
   "source": [
    "def multiply_poly(f,g):\n",
    "    prod = [0]*(len(f)+len(g)-1)\n",
    "    for n in range(len(f)):\n",
    "        for m in range(len(g)):\n",
    "            prod[m+n] += f[n]*f[m]\n",
    "    return prod\n"
   ]
  },
  {
   "cell_type": "code",
   "execution_count": null,
   "metadata": {},
   "outputs": [],
   "source": []
  },
  {
   "cell_type": "code",
   "execution_count": null,
   "metadata": {},
   "outputs": [],
   "source": []
  },
  {
   "cell_type": "code",
   "execution_count": 17,
   "metadata": {},
   "outputs": [
    {
     "data": {
      "text/plain": [
       "[2, 2, 5, 3, 3]"
      ]
     },
     "execution_count": 17,
     "metadata": {},
     "output_type": "execute_result"
    }
   ],
   "source": [
    "multiply_poly([1,1,1],[2,0,3])"
   ]
  },
  {
   "cell_type": "markdown",
   "metadata": {},
   "source": [
    "# Question6"
   ]
  },
  {
   "cell_type": "code",
   "execution_count": 52,
   "metadata": {},
   "outputs": [],
   "source": [
    "def divide_poly(l,a):\n",
    "    \n",
    "    if len(l)==1:\n",
    "        return [0],l[0]\n",
    "    l = l[::-1]\n",
    "    q = []\n",
    "    q.append(l[0])\n",
    "    for i in range(1,len(l)):\n",
    "        s = q[i-1]*a+l[i-1]\n",
    "        q.append(s)\n",
    "    y = q[::-1]\n",
    "    \n",
    "    print(y[1:],y[0])\n",
    "            \n",
    "            "
   ]
  },
  {
   "cell_type": "code",
   "execution_count": 53,
   "metadata": {},
   "outputs": [
    {
     "name": "stdout",
     "output_type": "stream",
     "text": [
      "[6, 3] 8\n"
     ]
    }
   ],
   "source": [
    "divide_poly([1,2,3],1)"
   ]
  },
  {
   "cell_type": "markdown",
   "metadata": {},
   "source": [
    "# Question7\n",
    "\n",
    "서로 다른 원소로 구성된 리스트 l과 자연수 k를 입력받아, 리스트 l의 원소 중 순서를 생각하지 않고 k개를 선택하는 모든 조합의 경우를 반환하는 python 함수 choose를 작성하고 위 함수를 이용하여 다음 문제의 경우의 수를 구하는 python 코드를 작성하고 그 답을 구하여라\n",
    "\n",
    "남학생 5명, 여학생 3명 중에서 4명의 청소당번을 뽑을 때, 남학생과 여학생을 각각 1명 이상씩 뽑는 경우의 수는?"
   ]
  },
  {
   "cell_type": "code",
   "execution_count": 10,
   "metadata": {},
   "outputs": [],
   "source": [
    "def choose(l,k):\n",
    "    if k == 0:\n",
    "        return [[]]\n",
    "    if k < 0 or k > len(l):\n",
    "        return []\n",
    "    res = []\n",
    "    for i in range(len(l)):\n",
    "        a = l[i]\n",
    "        l2=l[i+1:]\n",
    "        sub=choose(l2,k-1)\n",
    "        for p in sub:\n",
    "            res.append([a]+p)        \n",
    "    return res"
   ]
  },
  {
   "cell_type": "code",
   "execution_count": 32,
   "metadata": {},
   "outputs": [],
   "source": [
    "def choose(l,k):\n",
    "    if k == 0:\n",
    "        return[[]]\n",
    "    if k<0 or k>len(l):\n",
    "        return []\n",
    "    res = []\n",
    "    for i in range(len(l)):\n",
    "        a = l[i]\n",
    "        l2 = l[i+1:]\n",
    "        sub = choose(l2,k-1)\n",
    "        for p in sub:\n",
    "            res.append([a]+p)\n",
    "    return res"
   ]
  },
  {
   "cell_type": "code",
   "execution_count": 33,
   "metadata": {},
   "outputs": [
    {
     "data": {
      "text/plain": [
       "[[1, 2], [1, 3], [2, 3]]"
      ]
     },
     "execution_count": 33,
     "metadata": {},
     "output_type": "execute_result"
    }
   ],
   "source": [
    "choose([1,2,3],2)"
   ]
  },
  {
   "cell_type": "code",
   "execution_count": 34,
   "metadata": {},
   "outputs": [
    {
     "data": {
      "text/plain": [
       "[[1, 2, 3], [1, 2, 4], [1, 3, 4], [2, 3, 4]]"
      ]
     },
     "execution_count": 34,
     "metadata": {},
     "output_type": "execute_result"
    }
   ],
   "source": [
    "choose([1,2,3,4],3) "
   ]
  },
  {
   "cell_type": "code",
   "execution_count": 35,
   "metadata": {},
   "outputs": [
    {
     "name": "stdout",
     "output_type": "stream",
     "text": [
      "65\n"
     ]
    }
   ],
   "source": [
    "def all_boy():\n",
    "    return len(choose(['b1','b2','b3','b4','b5'],4))\n",
    "\n",
    "def all_case():\n",
    "    return len(choose(['b1','b2','b3','b4','b5','g1','g2','g3'],4))\n",
    "\n",
    "print(all_case()-all_boy())"
   ]
  },
  {
   "cell_type": "code",
   "execution_count": null,
   "metadata": {},
   "outputs": [],
   "source": []
  }
 ],
 "metadata": {
  "kernelspec": {
   "display_name": "Python 3",
   "language": "python",
   "name": "python3"
  },
  "language_info": {
   "codemirror_mode": {
    "name": "ipython",
    "version": 3
   },
   "file_extension": ".py",
   "mimetype": "text/x-python",
   "name": "python",
   "nbconvert_exporter": "python",
   "pygments_lexer": "ipython3",
   "version": "3.6.5"
  }
 },
 "nbformat": 4,
 "nbformat_minor": 2
}
