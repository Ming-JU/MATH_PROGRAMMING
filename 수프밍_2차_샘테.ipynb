{
 "cells": [
  {
   "cell_type": "code",
   "execution_count": null,
   "metadata": {},
   "outputs": [],
   "source": [
    "#1\n",
    "\n",
    "def ack(m,n):\n",
    "    if m == 0:\n",
    "        return n+1\n",
    "    if m>0 and n == 0:\n",
    "        return ack(m-1.0,1.0)\n",
    "    if m>0 and n>0:\n",
    "        return ack(m-1.0,ack(m,n-1.0))\n",
    "    \n",
    "ack(3.0,4.0)\n"
   ]
  },
  {
   "cell_type": "code",
   "execution_count": 1,
   "metadata": {},
   "outputs": [
    {
     "name": "stdout",
     "output_type": "stream",
     "text": [
      "3.141592653589793\n"
     ]
    }
   ],
   "source": [
    "#2\n",
    "import math\n",
    "def estimate_pi():\n",
    "    a = 2*math.sqrt(2)/9801\n",
    "    old_sum = 0\n",
    "    new_sum = 0\n",
    "    k = 0\n",
    "    while True:\n",
    "        x = (math.factorial(4*k)*(1103+26390*k))/(math.factorial(k)**4*(396**(4*k)))\n",
    "        new_sum = old_sum + x\n",
    "        if abs(a*old_sum-a*new_sum)<1e-15:\n",
    "            break\n",
    "            \n",
    "        k += 1\n",
    "        old_sum = new_sum\n",
    "        \n",
    "    pi = (a*new_sum)**-1\n",
    "    print(pi)\n",
    "        \n",
    "estimate_pi()\n"
   ]
  },
  {
   "cell_type": "code",
   "execution_count": 2,
   "metadata": {},
   "outputs": [
    {
     "data": {
      "text/plain": [
       "False"
      ]
     },
     "execution_count": 2,
     "metadata": {},
     "output_type": "execute_result"
    }
   ],
   "source": [
    "#3\n",
    "def is_sorted(t):\n",
    "    for i in range(1,len(t)):\n",
    "        if t[i-1]>t[i]:\n",
    "            return False\n",
    "    return True\n",
    "t = ['a','b','c','e','d']\n",
    "is_sorted(t)"
   ]
  },
  {
   "cell_type": "code",
   "execution_count": null,
   "metadata": {},
   "outputs": [],
   "source": [
    "#4\n",
    "def is_abecedarian(word):\n",
    "    i = 0\n",
    "    while i < len(word) -1 :\n",
    "        if word[i] > word[i+1]:\n",
    "            return False\n",
    "        return True\n",
    "\n",
    "is_abecedarian('ace')\n",
    "is_abecedarian('banana')\n",
    "    "
   ]
  },
  {
   "cell_type": "code",
   "execution_count": 15,
   "metadata": {},
   "outputs": [],
   "source": [
    "#5\n",
    "import matplotlib.pyplot as plt\n",
    "\n",
    "a = 0\n",
    "b = 6\n",
    "n = 601\n",
    "dx = (b-a)/(n-1)\n",
    "x = []\n",
    "y = []\n"
   ]
  },
  {
   "cell_type": "code",
   "execution_count": 16,
   "metadata": {},
   "outputs": [
    {
     "data": {
      "text/plain": [
       "[<matplotlib.lines.Line2D at 0x536f750>]"
      ]
     },
     "execution_count": 16,
     "metadata": {},
     "output_type": "execute_result"
    },
    {
     "data": {
      "image/png": "[encoded data removed]",
      "text/plain": [
       "<Figure size 432x288 with 1 Axes>"
      ]
     },
     "metadata": {
      "needs_background": "light"
     },
     "output_type": "display_data"
    }
   ],
   "source": [
    "for k in range(n):\n",
    "    x.append(a+k*dx)\n",
    "    if 0<=x[k]<2:\n",
    "        y.append(x[k]**2-2*x[k]+3)\n",
    "    elif 2<=x[k]<4:\n",
    "        y.append(-x[k]**3+9*x[k]**2-26*x[k]+23)\n",
    "    else:\n",
    "        y.append(x[k]**2-10*x[k]+27)\n",
    "plt.plot(x,y,'o')"
   ]
  },
  {
   "cell_type": "code",
   "execution_count": 17,
   "metadata": {},
   "outputs": [
    {
     "data": {
      "image/png": "[encoded data removed]",
      "text/plain": [
       "<Figure size 432x288 with 1 Axes>"
      ]
     },
     "metadata": {
      "needs_background": "light"
     },
     "output_type": "display_data"
    }
   ],
   "source": [
    "for k in range(n):\n",
    "    x.append(a+k*dx)\n",
    "    if 0<=x[k]<2:\n",
    "        y.append(x[k]**2-2*x[k]+3)\n",
    "    if 2<=x[k]<4:\n",
    "        y.append(-x[k]**3+9*x[k]**2-26*x[k]+23)\n",
    "    if 4<=x[k]<=6:\n",
    "        y.append(x[k]**2-10*x[k]+27)\n",
    "        \n",
    "plt.plot(x,y,'o')\n",
    "plt.show()\n",
    "    \n",
    "        "
   ]
  },
  {
   "cell_type": "code",
   "execution_count": null,
   "metadata": {},
   "outputs": [],
   "source": []
  }
 ],
 "metadata": {
  "kernelspec": {
   "display_name": "Python 3",
   "language": "python",
   "name": "python3"
  },
  "language_info": {
   "codemirror_mode": {
    "name": "ipython",
    "version": 3
   },
   "file_extension": ".py",
   "mimetype": "text/x-python",
   "name": "python",
   "nbconvert_exporter": "python",
   "pygments_lexer": "ipython3",
   "version": "3.7.0"
  }
 },
 "nbformat": 4,
 "nbformat_minor": 2
}
