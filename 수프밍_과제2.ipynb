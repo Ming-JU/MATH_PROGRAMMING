{
 "cells": [
  {
   "cell_type": "code",
   "execution_count": 2,
   "metadata": {},
   "outputs": [
    {
     "name": "stdout",
     "output_type": "stream",
     "text": [
      "9 90\n"
     ]
    },
    {
     "data": {
      "text/plain": [
       "8100"
      ]
     },
     "execution_count": 2,
     "metadata": {},
     "output_type": "execute_result"
    }
   ],
   "source": [
    "#6.1\n",
    "x = 1\n",
    "y = 2\n",
    "z = 4\n",
    "\n",
    "def b(z):                      \n",
    "    prod = a(z, z)\n",
    "    print(z, prod)\n",
    "    return prod\n",
    "    \n",
    "def a(x, y):                  \n",
    "    x = x + 1\n",
    "    return x * y\n",
    "    \n",
    "def c(x, y, z):        \n",
    "    total = x + y + z\n",
    "    square = b(total) ** 2\n",
    "    return square\n",
    "\n",
    "c(1,5,3)\n"
   ]
  },
  {
   "cell_type": "code",
   "execution_count": 3,
   "metadata": {},
   "outputs": [
    {
     "data": {
      "text/plain": [
       "False"
      ]
     },
     "execution_count": 3,
     "metadata": {},
     "output_type": "execute_result"
    }
   ],
   "source": [
    "#6.3\n",
    "\n",
    "def first(word):          \n",
    "    return word[0]\n",
    "    \n",
    "def last(word):            \n",
    "    return word[-1]\n",
    "    \n",
    "def middle(word):           \n",
    "    return word[1:-1]\n",
    "\n",
    "def palindrome(word):\n",
    "    \n",
    "    a=first(word)\n",
    "    b=last(word)\n",
    "    c=middle(word)\n",
    "    if (a==b and len(c)<2):\n",
    "        return True\n",
    "    elif a==b:\n",
    "        return palindrome(c)\n",
    "    else:\n",
    "        return False\n",
    "    \n",
    "palindrome(\"wroow\")\n"
   ]
  },
  {
   "cell_type": "code",
   "execution_count": 4,
   "metadata": {},
   "outputs": [
    {
     "data": {
      "text/plain": [
       "False"
      ]
     },
     "execution_count": 4,
     "metadata": {},
     "output_type": "execute_result"
    }
   ],
   "source": [
    "#6.4\n",
    "def is_power(a,b):\n",
    "    if a%b==0 and (a/b)%b==0:\n",
    "        return True\n",
    "    else:\n",
    "        return False\n",
    "    \n",
    "is_power(6,3)"
   ]
  },
  {
   "cell_type": "code",
   "execution_count": 5,
   "metadata": {},
   "outputs": [
    {
     "data": {
      "text/plain": [
       "8"
      ]
     },
     "execution_count": 5,
     "metadata": {},
     "output_type": "execute_result"
    }
   ],
   "source": [
    "#6.5\n",
    "\n",
    "def GCD(a,b):\n",
    "    r=b%a\n",
    "    if r==0:\n",
    "        return a\n",
    "    else:\n",
    "        return GCD(r,a)\n",
    "    \n",
    "GCD(72,64)"
   ]
  },
  {
   "cell_type": "code",
   "execution_count": 7,
   "metadata": {},
   "outputs": [
    {
     "name": "stdout",
     "output_type": "stream",
     "text": [
      "input number that you want to know the square root : 36\n",
      "input number that you start with almost any estimate : 5\n",
      "5\n",
      "6.1\n",
      "6.000819672131147\n",
      "6.000000055980886\n",
      "6.0\n",
      "square of a is : 6.0\n",
      "mysqrt(a) and math.sqrt(a)' diff is : 0.0\n"
     ]
    }
   ],
   "source": [
    "#7.1\n",
    "\n",
    "import math\n",
    "def test_sql_root():\n",
    "    epsilon = 0.000000000000001\n",
    "    a=int(input('input number that you want to know the square root : '))\n",
    "    x=int(input('input number that you start with almost any estimate : '))\n",
    "    while True:\n",
    "        print(x)\n",
    "        y = (x + a / x) / 2\n",
    "        if abs(y-x) < epsilon:\n",
    "            break\n",
    "        x = y\n",
    "    print('square of a is : ',math.sqrt(a),sep = '')\n",
    "    print(\"mysqrt(a) and math.sqrt(a)' diff is : \",x-math.sqrt(a),sep = '')    \n",
    "test_sql_root()"
   ]
  },
  {
   "cell_type": "code",
   "execution_count": 8,
   "metadata": {},
   "outputs": [
    {
     "name": "stdout",
     "output_type": "stream",
     "text": [
      "input number : 6\n",
      "6\n",
      "input number : done\n",
      "6\n"
     ]
    }
   ],
   "source": [
    "#7.2\n",
    "def eval_loop():\n",
    "    while True:\n",
    "        n = input('input number : ')\n",
    "        if n == 'done':\n",
    "            break\n",
    "        else:\n",
    "            result = eval(n)\n",
    "            print(result)\n",
    "    print(result)\n",
    "\n",
    "eval_loop() "
   ]
  },
  {
   "cell_type": "code",
   "execution_count": null,
   "metadata": {},
   "outputs": [],
   "source": [
    "#7.3\n",
    "import math\n",
    "\n",
    "def estimate_pi():\n",
    "    k = 0\n",
    "    last_term = 1\n",
    "    sigma = 0\n",
    "    while last_term > 1e-15:\n",
    "        last_term = ((math.factorial(4 * k)) * (1103 + 26390 * (k))) / ((math.factorial(k) ** 4) * (396 ** (4 * k)))\n",
    "        k += 1\n",
    "        sigma += last_term\n",
    "    result = ((2 * math.sqrt(2)) / 9801) * sigma\n",
    "    return 1 / result\n",
    "\n",
    "print(estimate_pi())\n",
    "print(math.pi) "
   ]
  },
  {
   "cell_type": "code",
   "execution_count": 9,
   "metadata": {},
   "outputs": [
    {
     "name": "stdout",
     "output_type": "stream",
     "text": [
      " start\n",
      "True\n",
      " ttart\n",
      " START\n"
     ]
    }
   ],
   "source": [
    "#8.1\n",
    "string = ' start'\n",
    "print(string.capitalize())\n",
    "print(string.islower())\n",
    "print(string.replace(\"s\", \"t\"))\n",
    "print(string.upper())"
   ]
  },
  {
   "cell_type": "code",
   "execution_count": 10,
   "metadata": {},
   "outputs": [
    {
     "name": "stdout",
     "output_type": "stream",
     "text": [
      "3\n"
     ]
    }
   ],
   "source": [
    "#8.2\n",
    "\n",
    "word = \"banana\"\n",
    "al = \"a\"\n",
    "\n",
    "def count(word, letter):\n",
    "    return word.count(letter)\n",
    "    \n",
    "print (count(word, al)) "
   ]
  },
  {
   "cell_type": "code",
   "execution_count": 11,
   "metadata": {},
   "outputs": [
    {
     "name": "stdout",
     "output_type": "stream",
     "text": [
      "True\n",
      "True\n",
      "False\n"
     ]
    }
   ],
   "source": [
    "#8.3\n",
    "def is_palindrome(word):\n",
    "    return word == word[::-1]\n",
    "\n",
    "print(is_palindrome(\"noon\"))\n",
    "print(is_palindrome(\"redivider\"))\n",
    "print(is_palindrome(\"redivid\"))"
   ]
  },
  {
   "cell_type": "code",
   "execution_count": null,
   "metadata": {},
   "outputs": [],
   "source": []
  }
 ],
 "metadata": {
  "kernelspec": {
   "display_name": "Python 3",
   "language": "python",
   "name": "python3"
  },
  "language_info": {
   "codemirror_mode": {
    "name": "ipython",
    "version": 3
   },
   "file_extension": ".py",
   "mimetype": "text/x-python",
   "name": "python",
   "nbconvert_exporter": "python",
   "pygments_lexer": "ipython3",
   "version": "3.7.0"
  }
 },
 "nbformat": 4,
 "nbformat_minor": 2
}
